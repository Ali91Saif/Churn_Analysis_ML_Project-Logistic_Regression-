{
 "cells": [
  {
   "cell_type": "markdown",
   "id": "74f88bc1",
   "metadata": {},
   "source": [
    "# Importing Libraries"
   ]
  },
  {
   "cell_type": "code",
   "execution_count": 1,
   "id": "6ed1a355",
   "metadata": {},
   "outputs": [],
   "source": [
    "import numpy as np\n",
    "import pandas as pd\n",
    "import matplotlib.pyplot as plt\n",
    "import seaborn as sns\n",
    "from scipy.stats import chi2_contingency\n",
    "import warnings\n",
    "warnings.filterwarnings('ignore')"
   ]
  },
  {
   "cell_type": "markdown",
   "id": "0ad774d8",
   "metadata": {},
   "source": [
    "# Importing and Reading data"
   ]
  },
  {
   "cell_type": "code",
   "execution_count": 2,
   "id": "c96a80c0",
   "metadata": {},
   "outputs": [
    {
     "data": {
      "text/html": [
       "<div>\n",
       "<style scoped>\n",
       "    .dataframe tbody tr th:only-of-type {\n",
       "        vertical-align: middle;\n",
       "    }\n",
       "\n",
       "    .dataframe tbody tr th {\n",
       "        vertical-align: top;\n",
       "    }\n",
       "\n",
       "    .dataframe thead th {\n",
       "        text-align: right;\n",
       "    }\n",
       "</style>\n",
       "<table border=\"1\" class=\"dataframe\">\n",
       "  <thead>\n",
       "    <tr style=\"text-align: right;\">\n",
       "      <th></th>\n",
       "      <th>Churn</th>\n",
       "      <th>AccountWeeks</th>\n",
       "      <th>ContractRenewal</th>\n",
       "      <th>DataPlan</th>\n",
       "      <th>DataUsage</th>\n",
       "      <th>CustServCalls</th>\n",
       "      <th>DayMins</th>\n",
       "      <th>DayCalls</th>\n",
       "      <th>MonthlyCharge</th>\n",
       "      <th>OverageFee</th>\n",
       "      <th>RoamMins</th>\n",
       "    </tr>\n",
       "  </thead>\n",
       "  <tbody>\n",
       "    <tr>\n",
       "      <th>0</th>\n",
       "      <td>0</td>\n",
       "      <td>128</td>\n",
       "      <td>1</td>\n",
       "      <td>1</td>\n",
       "      <td>2.7</td>\n",
       "      <td>1</td>\n",
       "      <td>265.1</td>\n",
       "      <td>110</td>\n",
       "      <td>89.0</td>\n",
       "      <td>9.87</td>\n",
       "      <td>10.0</td>\n",
       "    </tr>\n",
       "    <tr>\n",
       "      <th>1</th>\n",
       "      <td>0</td>\n",
       "      <td>107</td>\n",
       "      <td>1</td>\n",
       "      <td>1</td>\n",
       "      <td>3.7</td>\n",
       "      <td>1</td>\n",
       "      <td>161.6</td>\n",
       "      <td>123</td>\n",
       "      <td>82.0</td>\n",
       "      <td>9.78</td>\n",
       "      <td>13.7</td>\n",
       "    </tr>\n",
       "    <tr>\n",
       "      <th>2</th>\n",
       "      <td>0</td>\n",
       "      <td>137</td>\n",
       "      <td>1</td>\n",
       "      <td>0</td>\n",
       "      <td>0.0</td>\n",
       "      <td>0</td>\n",
       "      <td>243.4</td>\n",
       "      <td>114</td>\n",
       "      <td>52.0</td>\n",
       "      <td>6.06</td>\n",
       "      <td>12.2</td>\n",
       "    </tr>\n",
       "  </tbody>\n",
       "</table>\n",
       "</div>"
      ],
      "text/plain": [
       "   Churn  AccountWeeks  ContractRenewal  DataPlan  DataUsage  CustServCalls  \\\n",
       "0      0           128                1         1        2.7              1   \n",
       "1      0           107                1         1        3.7              1   \n",
       "2      0           137                1         0        0.0              0   \n",
       "\n",
       "   DayMins  DayCalls  MonthlyCharge  OverageFee  RoamMins  \n",
       "0    265.1       110           89.0        9.87      10.0  \n",
       "1    161.6       123           82.0        9.78      13.7  \n",
       "2    243.4       114           52.0        6.06      12.2  "
      ]
     },
     "execution_count": 2,
     "metadata": {},
     "output_type": "execute_result"
    }
   ],
   "source": [
    "data = pd.read_csv('Dataset.csv')\n",
    "data.head(3)"
   ]
  },
  {
   "cell_type": "markdown",
   "id": "c6fbb90b",
   "metadata": {},
   "source": [
    "## Checking for the shape of DataFrame"
   ]
  },
  {
   "cell_type": "code",
   "execution_count": 3,
   "id": "cd9dfc02",
   "metadata": {},
   "outputs": [
    {
     "data": {
      "text/plain": [
       "(3333, 11)"
      ]
     },
     "execution_count": 3,
     "metadata": {},
     "output_type": "execute_result"
    }
   ],
   "source": [
    "data.shape"
   ]
  },
  {
   "cell_type": "markdown",
   "id": "eaac0e73",
   "metadata": {},
   "source": [
    "## Extracting brief insight of the data"
   ]
  },
  {
   "cell_type": "code",
   "execution_count": 4,
   "id": "0973d9d3",
   "metadata": {},
   "outputs": [
    {
     "name": "stdout",
     "output_type": "stream",
     "text": [
      "<class 'pandas.core.frame.DataFrame'>\n",
      "RangeIndex: 3333 entries, 0 to 3332\n",
      "Data columns (total 11 columns):\n",
      " #   Column           Non-Null Count  Dtype  \n",
      "---  ------           --------------  -----  \n",
      " 0   Churn            3333 non-null   int64  \n",
      " 1   AccountWeeks     3333 non-null   int64  \n",
      " 2   ContractRenewal  3333 non-null   int64  \n",
      " 3   DataPlan         3333 non-null   int64  \n",
      " 4   DataUsage        3333 non-null   float64\n",
      " 5   CustServCalls    3333 non-null   int64  \n",
      " 6   DayMins          3333 non-null   float64\n",
      " 7   DayCalls         3333 non-null   int64  \n",
      " 8   MonthlyCharge    3333 non-null   float64\n",
      " 9   OverageFee       3333 non-null   float64\n",
      " 10  RoamMins         3333 non-null   float64\n",
      "dtypes: float64(5), int64(6)\n",
      "memory usage: 286.6 KB\n"
     ]
    }
   ],
   "source": [
    "data.info()"
   ]
  },
  {
   "cell_type": "markdown",
   "id": "f6ea2bef",
   "metadata": {},
   "source": [
    "## Checking for Missing Values"
   ]
  },
  {
   "cell_type": "code",
   "execution_count": 5,
   "id": "00576c3a",
   "metadata": {},
   "outputs": [
    {
     "data": {
      "text/plain": [
       "Churn              0\n",
       "AccountWeeks       0\n",
       "ContractRenewal    0\n",
       "DataPlan           0\n",
       "DataUsage          0\n",
       "CustServCalls      0\n",
       "DayMins            0\n",
       "DayCalls           0\n",
       "MonthlyCharge      0\n",
       "OverageFee         0\n",
       "RoamMins           0\n",
       "dtype: int64"
      ]
     },
     "execution_count": 5,
     "metadata": {},
     "output_type": "execute_result"
    }
   ],
   "source": [
    "data.isnull().sum()"
   ]
  },
  {
   "cell_type": "markdown",
   "id": "43929219",
   "metadata": {},
   "source": [
    "## Checking for the duplicates"
   ]
  },
  {
   "cell_type": "code",
   "execution_count": 6,
   "id": "660189b4",
   "metadata": {},
   "outputs": [
    {
     "data": {
      "text/plain": [
       "(0, 11)"
      ]
     },
     "execution_count": 6,
     "metadata": {},
     "output_type": "execute_result"
    }
   ],
   "source": [
    "duplicate_rows = data[data.duplicated()]\n",
    "duplicate_rows.shape"
   ]
  },
  {
   "cell_type": "markdown",
   "id": "1410093b",
   "metadata": {},
   "source": [
    "## Checking for the OutLiers"
   ]
  },
  {
   "cell_type": "code",
   "execution_count": 95,
   "id": "4069f38a",
   "metadata": {},
   "outputs": [
    {
     "data": {
      "image/png": "[encoded data removed]",
      "text/plain": [
       "<Figure size 1800x1000 with 12 Axes>"
      ]
     },
     "metadata": {},
     "output_type": "display_data"
    }
   ],
   "source": [
    "data.plot(kind = 'box',sharex=False, sharey=False,subplots = True,layout = (3, 4),figsize=(18,10));\n",
    "plt.savefig(\"Churn_Outliers.png\", format=\"png\", bbox_inches=\"tight\")"
   ]
  },
  {
   "cell_type": "markdown",
   "id": "5af100a6",
   "metadata": {},
   "source": [
    "## Looking for statistical Summary of  Variables"
   ]
  },
  {
   "cell_type": "code",
   "execution_count": 8,
   "id": "5939628a",
   "metadata": {},
   "outputs": [
    {
     "data": {
      "text/html": [
       "<div>\n",
       "<style scoped>\n",
       "    .dataframe tbody tr th:only-of-type {\n",
       "        vertical-align: middle;\n",
       "    }\n",
       "\n",
       "    .dataframe tbody tr th {\n",
       "        vertical-align: top;\n",
       "    }\n",
       "\n",
       "    .dataframe thead th {\n",
       "        text-align: right;\n",
       "    }\n",
       "</style>\n",
       "<table border=\"1\" class=\"dataframe\">\n",
       "  <thead>\n",
       "    <tr style=\"text-align: right;\">\n",
       "      <th></th>\n",
       "      <th>count</th>\n",
       "      <th>mean</th>\n",
       "      <th>std</th>\n",
       "      <th>min</th>\n",
       "      <th>25%</th>\n",
       "      <th>50%</th>\n",
       "      <th>75%</th>\n",
       "      <th>max</th>\n",
       "    </tr>\n",
       "  </thead>\n",
       "  <tbody>\n",
       "    <tr>\n",
       "      <th>Churn</th>\n",
       "      <td>3333.0</td>\n",
       "      <td>0.144914</td>\n",
       "      <td>0.352067</td>\n",
       "      <td>0.0</td>\n",
       "      <td>0.00</td>\n",
       "      <td>0.00</td>\n",
       "      <td>0.00</td>\n",
       "      <td>1.00</td>\n",
       "    </tr>\n",
       "    <tr>\n",
       "      <th>AccountWeeks</th>\n",
       "      <td>3333.0</td>\n",
       "      <td>101.064806</td>\n",
       "      <td>39.822106</td>\n",
       "      <td>1.0</td>\n",
       "      <td>74.00</td>\n",
       "      <td>101.00</td>\n",
       "      <td>127.00</td>\n",
       "      <td>243.00</td>\n",
       "    </tr>\n",
       "    <tr>\n",
       "      <th>ContractRenewal</th>\n",
       "      <td>3333.0</td>\n",
       "      <td>0.903090</td>\n",
       "      <td>0.295879</td>\n",
       "      <td>0.0</td>\n",
       "      <td>1.00</td>\n",
       "      <td>1.00</td>\n",
       "      <td>1.00</td>\n",
       "      <td>1.00</td>\n",
       "    </tr>\n",
       "    <tr>\n",
       "      <th>DataPlan</th>\n",
       "      <td>3333.0</td>\n",
       "      <td>0.276628</td>\n",
       "      <td>0.447398</td>\n",
       "      <td>0.0</td>\n",
       "      <td>0.00</td>\n",
       "      <td>0.00</td>\n",
       "      <td>1.00</td>\n",
       "      <td>1.00</td>\n",
       "    </tr>\n",
       "    <tr>\n",
       "      <th>DataUsage</th>\n",
       "      <td>3333.0</td>\n",
       "      <td>0.816475</td>\n",
       "      <td>1.272668</td>\n",
       "      <td>0.0</td>\n",
       "      <td>0.00</td>\n",
       "      <td>0.00</td>\n",
       "      <td>1.78</td>\n",
       "      <td>5.40</td>\n",
       "    </tr>\n",
       "    <tr>\n",
       "      <th>CustServCalls</th>\n",
       "      <td>3333.0</td>\n",
       "      <td>1.562856</td>\n",
       "      <td>1.315491</td>\n",
       "      <td>0.0</td>\n",
       "      <td>1.00</td>\n",
       "      <td>1.00</td>\n",
       "      <td>2.00</td>\n",
       "      <td>9.00</td>\n",
       "    </tr>\n",
       "    <tr>\n",
       "      <th>DayMins</th>\n",
       "      <td>3333.0</td>\n",
       "      <td>179.775098</td>\n",
       "      <td>54.467389</td>\n",
       "      <td>0.0</td>\n",
       "      <td>143.70</td>\n",
       "      <td>179.40</td>\n",
       "      <td>216.40</td>\n",
       "      <td>350.80</td>\n",
       "    </tr>\n",
       "    <tr>\n",
       "      <th>DayCalls</th>\n",
       "      <td>3333.0</td>\n",
       "      <td>100.435644</td>\n",
       "      <td>20.069084</td>\n",
       "      <td>0.0</td>\n",
       "      <td>87.00</td>\n",
       "      <td>101.00</td>\n",
       "      <td>114.00</td>\n",
       "      <td>165.00</td>\n",
       "    </tr>\n",
       "    <tr>\n",
       "      <th>MonthlyCharge</th>\n",
       "      <td>3333.0</td>\n",
       "      <td>56.305161</td>\n",
       "      <td>16.426032</td>\n",
       "      <td>14.0</td>\n",
       "      <td>45.00</td>\n",
       "      <td>53.50</td>\n",
       "      <td>66.20</td>\n",
       "      <td>111.30</td>\n",
       "    </tr>\n",
       "    <tr>\n",
       "      <th>OverageFee</th>\n",
       "      <td>3333.0</td>\n",
       "      <td>10.051488</td>\n",
       "      <td>2.535712</td>\n",
       "      <td>0.0</td>\n",
       "      <td>8.33</td>\n",
       "      <td>10.07</td>\n",
       "      <td>11.77</td>\n",
       "      <td>18.19</td>\n",
       "    </tr>\n",
       "    <tr>\n",
       "      <th>RoamMins</th>\n",
       "      <td>3333.0</td>\n",
       "      <td>10.237294</td>\n",
       "      <td>2.791840</td>\n",
       "      <td>0.0</td>\n",
       "      <td>8.50</td>\n",
       "      <td>10.30</td>\n",
       "      <td>12.10</td>\n",
       "      <td>20.00</td>\n",
       "    </tr>\n",
       "  </tbody>\n",
       "</table>\n",
       "</div>"
      ],
      "text/plain": [
       "                  count        mean        std   min     25%     50%     75%  \\\n",
       "Churn            3333.0    0.144914   0.352067   0.0    0.00    0.00    0.00   \n",
       "AccountWeeks     3333.0  101.064806  39.822106   1.0   74.00  101.00  127.00   \n",
       "ContractRenewal  3333.0    0.903090   0.295879   0.0    1.00    1.00    1.00   \n",
       "DataPlan         3333.0    0.276628   0.447398   0.0    0.00    0.00    1.00   \n",
       "DataUsage        3333.0    0.816475   1.272668   0.0    0.00    0.00    1.78   \n",
       "CustServCalls    3333.0    1.562856   1.315491   0.0    1.00    1.00    2.00   \n",
       "DayMins          3333.0  179.775098  54.467389   0.0  143.70  179.40  216.40   \n",
       "DayCalls         3333.0  100.435644  20.069084   0.0   87.00  101.00  114.00   \n",
       "MonthlyCharge    3333.0   56.305161  16.426032  14.0   45.00   53.50   66.20   \n",
       "OverageFee       3333.0   10.051488   2.535712   0.0    8.33   10.07   11.77   \n",
       "RoamMins         3333.0   10.237294   2.791840   0.0    8.50   10.30   12.10   \n",
       "\n",
       "                    max  \n",
       "Churn              1.00  \n",
       "AccountWeeks     243.00  \n",
       "ContractRenewal    1.00  \n",
       "DataPlan           1.00  \n",
       "DataUsage          5.40  \n",
       "CustServCalls      9.00  \n",
       "DayMins          350.80  \n",
       "DayCalls         165.00  \n",
       "MonthlyCharge    111.30  \n",
       "OverageFee        18.19  \n",
       "RoamMins          20.00  "
      ]
     },
     "execution_count": 8,
     "metadata": {},
     "output_type": "execute_result"
    }
   ],
   "source": [
    "data.describe().T"
   ]
  },
  {
   "cell_type": "markdown",
   "id": "c0a77ac4",
   "metadata": {},
   "source": [
    "# Univariate Analysis"
   ]
  },
  {
   "cell_type": "markdown",
   "id": "37fd45e7",
   "metadata": {},
   "source": [
    "## (1) Churn"
   ]
  },
  {
   "cell_type": "code",
   "execution_count": 96,
   "id": "b2deedf1",
   "metadata": {},
   "outputs": [
    {
     "data": {
      "image/png": "[encoded data removed]",
      "text/plain": [
       "<Figure size 640x480 with 1 Axes>"
      ]
     },
     "metadata": {},
     "output_type": "display_data"
    }
   ],
   "source": [
    "sns.countplot(data.Churn);\n",
    "plt.savefig(\"Churn_Churn.png\", format=\"png\", bbox_inches=\"tight\")"
   ]
  },
  {
   "cell_type": "code",
   "execution_count": 10,
   "id": "6b3ed006",
   "metadata": {},
   "outputs": [
    {
     "data": {
      "text/plain": [
       "0    2850\n",
       "1     483\n",
       "Name: Churn, dtype: int64"
      ]
     },
     "execution_count": 10,
     "metadata": {},
     "output_type": "execute_result"
    }
   ],
   "source": [
    "data.Churn.value_counts()"
   ]
  },
  {
   "cell_type": "code",
   "execution_count": 11,
   "id": "3e5fe830",
   "metadata": {},
   "outputs": [
    {
     "data": {
      "text/plain": [
       "0    0.855086\n",
       "1    0.144914\n",
       "Name: Churn, dtype: float64"
      ]
     },
     "execution_count": 11,
     "metadata": {},
     "output_type": "execute_result"
    }
   ],
   "source": [
    "data.Churn.value_counts()/3333"
   ]
  },
  {
   "cell_type": "markdown",
   "id": "5e7f1c0b",
   "metadata": {},
   "source": [
    "## (2) AccountWeeks"
   ]
  },
  {
   "cell_type": "code",
   "execution_count": 12,
   "id": "0e9e3c99",
   "metadata": {},
   "outputs": [
    {
     "data": {
      "text/html": [
       "<div>\n",
       "<style scoped>\n",
       "    .dataframe tbody tr th:only-of-type {\n",
       "        vertical-align: middle;\n",
       "    }\n",
       "\n",
       "    .dataframe tbody tr th {\n",
       "        vertical-align: top;\n",
       "    }\n",
       "\n",
       "    .dataframe thead th {\n",
       "        text-align: right;\n",
       "    }\n",
       "</style>\n",
       "<table border=\"1\" class=\"dataframe\">\n",
       "  <thead>\n",
       "    <tr style=\"text-align: right;\">\n",
       "      <th></th>\n",
       "      <th>Churn</th>\n",
       "      <th>AccountWeeks</th>\n",
       "      <th>ContractRenewal</th>\n",
       "      <th>DataPlan</th>\n",
       "      <th>DataUsage</th>\n",
       "      <th>CustServCalls</th>\n",
       "      <th>DayMins</th>\n",
       "      <th>DayCalls</th>\n",
       "      <th>MonthlyCharge</th>\n",
       "      <th>OverageFee</th>\n",
       "      <th>RoamMins</th>\n",
       "    </tr>\n",
       "  </thead>\n",
       "  <tbody>\n",
       "    <tr>\n",
       "      <th>0</th>\n",
       "      <td>0</td>\n",
       "      <td>128</td>\n",
       "      <td>1</td>\n",
       "      <td>1</td>\n",
       "      <td>2.70</td>\n",
       "      <td>1</td>\n",
       "      <td>265.1</td>\n",
       "      <td>110</td>\n",
       "      <td>89.0</td>\n",
       "      <td>9.87</td>\n",
       "      <td>10.0</td>\n",
       "    </tr>\n",
       "    <tr>\n",
       "      <th>1</th>\n",
       "      <td>0</td>\n",
       "      <td>107</td>\n",
       "      <td>1</td>\n",
       "      <td>1</td>\n",
       "      <td>3.70</td>\n",
       "      <td>1</td>\n",
       "      <td>161.6</td>\n",
       "      <td>123</td>\n",
       "      <td>82.0</td>\n",
       "      <td>9.78</td>\n",
       "      <td>13.7</td>\n",
       "    </tr>\n",
       "    <tr>\n",
       "      <th>2</th>\n",
       "      <td>0</td>\n",
       "      <td>137</td>\n",
       "      <td>1</td>\n",
       "      <td>0</td>\n",
       "      <td>0.00</td>\n",
       "      <td>0</td>\n",
       "      <td>243.4</td>\n",
       "      <td>114</td>\n",
       "      <td>52.0</td>\n",
       "      <td>6.06</td>\n",
       "      <td>12.2</td>\n",
       "    </tr>\n",
       "    <tr>\n",
       "      <th>3</th>\n",
       "      <td>0</td>\n",
       "      <td>84</td>\n",
       "      <td>0</td>\n",
       "      <td>0</td>\n",
       "      <td>0.00</td>\n",
       "      <td>2</td>\n",
       "      <td>299.4</td>\n",
       "      <td>71</td>\n",
       "      <td>57.0</td>\n",
       "      <td>3.10</td>\n",
       "      <td>6.6</td>\n",
       "    </tr>\n",
       "    <tr>\n",
       "      <th>4</th>\n",
       "      <td>0</td>\n",
       "      <td>75</td>\n",
       "      <td>0</td>\n",
       "      <td>0</td>\n",
       "      <td>0.00</td>\n",
       "      <td>3</td>\n",
       "      <td>166.7</td>\n",
       "      <td>113</td>\n",
       "      <td>41.0</td>\n",
       "      <td>7.42</td>\n",
       "      <td>10.1</td>\n",
       "    </tr>\n",
       "    <tr>\n",
       "      <th>...</th>\n",
       "      <td>...</td>\n",
       "      <td>...</td>\n",
       "      <td>...</td>\n",
       "      <td>...</td>\n",
       "      <td>...</td>\n",
       "      <td>...</td>\n",
       "      <td>...</td>\n",
       "      <td>...</td>\n",
       "      <td>...</td>\n",
       "      <td>...</td>\n",
       "      <td>...</td>\n",
       "    </tr>\n",
       "    <tr>\n",
       "      <th>3328</th>\n",
       "      <td>0</td>\n",
       "      <td>192</td>\n",
       "      <td>1</td>\n",
       "      <td>1</td>\n",
       "      <td>2.67</td>\n",
       "      <td>2</td>\n",
       "      <td>156.2</td>\n",
       "      <td>77</td>\n",
       "      <td>71.7</td>\n",
       "      <td>10.78</td>\n",
       "      <td>9.9</td>\n",
       "    </tr>\n",
       "    <tr>\n",
       "      <th>3329</th>\n",
       "      <td>0</td>\n",
       "      <td>68</td>\n",
       "      <td>1</td>\n",
       "      <td>0</td>\n",
       "      <td>0.34</td>\n",
       "      <td>3</td>\n",
       "      <td>231.1</td>\n",
       "      <td>57</td>\n",
       "      <td>56.4</td>\n",
       "      <td>7.67</td>\n",
       "      <td>9.6</td>\n",
       "    </tr>\n",
       "    <tr>\n",
       "      <th>3330</th>\n",
       "      <td>0</td>\n",
       "      <td>28</td>\n",
       "      <td>1</td>\n",
       "      <td>0</td>\n",
       "      <td>0.00</td>\n",
       "      <td>2</td>\n",
       "      <td>180.8</td>\n",
       "      <td>109</td>\n",
       "      <td>56.0</td>\n",
       "      <td>14.44</td>\n",
       "      <td>14.1</td>\n",
       "    </tr>\n",
       "    <tr>\n",
       "      <th>3331</th>\n",
       "      <td>0</td>\n",
       "      <td>184</td>\n",
       "      <td>0</td>\n",
       "      <td>0</td>\n",
       "      <td>0.00</td>\n",
       "      <td>2</td>\n",
       "      <td>213.8</td>\n",
       "      <td>105</td>\n",
       "      <td>50.0</td>\n",
       "      <td>7.98</td>\n",
       "      <td>5.0</td>\n",
       "    </tr>\n",
       "    <tr>\n",
       "      <th>3332</th>\n",
       "      <td>0</td>\n",
       "      <td>74</td>\n",
       "      <td>1</td>\n",
       "      <td>1</td>\n",
       "      <td>3.70</td>\n",
       "      <td>0</td>\n",
       "      <td>234.4</td>\n",
       "      <td>113</td>\n",
       "      <td>100.0</td>\n",
       "      <td>13.30</td>\n",
       "      <td>13.7</td>\n",
       "    </tr>\n",
       "  </tbody>\n",
       "</table>\n",
       "<p>3333 rows × 11 columns</p>\n",
       "</div>"
      ],
      "text/plain": [
       "      Churn  AccountWeeks  ContractRenewal  DataPlan  DataUsage  \\\n",
       "0         0           128                1         1       2.70   \n",
       "1         0           107                1         1       3.70   \n",
       "2         0           137                1         0       0.00   \n",
       "3         0            84                0         0       0.00   \n",
       "4         0            75                0         0       0.00   \n",
       "...     ...           ...              ...       ...        ...   \n",
       "3328      0           192                1         1       2.67   \n",
       "3329      0            68                1         0       0.34   \n",
       "3330      0            28                1         0       0.00   \n",
       "3331      0           184                0         0       0.00   \n",
       "3332      0            74                1         1       3.70   \n",
       "\n",
       "      CustServCalls  DayMins  DayCalls  MonthlyCharge  OverageFee  RoamMins  \n",
       "0                 1    265.1       110           89.0        9.87      10.0  \n",
       "1                 1    161.6       123           82.0        9.78      13.7  \n",
       "2                 0    243.4       114           52.0        6.06      12.2  \n",
       "3                 2    299.4        71           57.0        3.10       6.6  \n",
       "4                 3    166.7       113           41.0        7.42      10.1  \n",
       "...             ...      ...       ...            ...         ...       ...  \n",
       "3328              2    156.2        77           71.7       10.78       9.9  \n",
       "3329              3    231.1        57           56.4        7.67       9.6  \n",
       "3330              2    180.8       109           56.0       14.44      14.1  \n",
       "3331              2    213.8       105           50.0        7.98       5.0  \n",
       "3332              0    234.4       113          100.0       13.30      13.7  \n",
       "\n",
       "[3333 rows x 11 columns]"
      ]
     },
     "execution_count": 12,
     "metadata": {},
     "output_type": "execute_result"
    }
   ],
   "source": [
    "data"
   ]
  },
  {
   "cell_type": "code",
   "execution_count": 13,
   "id": "d1208b03",
   "metadata": {},
   "outputs": [
    {
     "data": {
      "image/png": "[encoded data removed]",
      "text/plain": [
       "<Figure size 640x480 with 1 Axes>"
      ]
     },
     "metadata": {},
     "output_type": "display_data"
    }
   ],
   "source": [
    "sns.distplot(data.AccountWeeks);"
   ]
  },
  {
   "cell_type": "code",
   "execution_count": 14,
   "id": "4a6ae600",
   "metadata": {},
   "outputs": [
    {
     "data": {
      "text/plain": [
       "0.09660629423135147"
      ]
     },
     "execution_count": 14,
     "metadata": {},
     "output_type": "execute_result"
    }
   ],
   "source": [
    "data.AccountWeeks.skew()"
   ]
  },
  {
   "cell_type": "markdown",
   "id": "5c217852",
   "metadata": {},
   "source": [
    "## (3) ContractRenewal"
   ]
  },
  {
   "cell_type": "code",
   "execution_count": 15,
   "id": "38609173",
   "metadata": {},
   "outputs": [
    {
     "data": {
      "text/plain": [
       "0       1\n",
       "1       1\n",
       "2       1\n",
       "3       0\n",
       "4       0\n",
       "       ..\n",
       "3328    1\n",
       "3329    1\n",
       "3330    1\n",
       "3331    0\n",
       "3332    1\n",
       "Name: ContractRenewal, Length: 3333, dtype: int64"
      ]
     },
     "execution_count": 15,
     "metadata": {},
     "output_type": "execute_result"
    }
   ],
   "source": [
    "data.ContractRenewal"
   ]
  },
  {
   "cell_type": "code",
   "execution_count": 118,
   "id": "ada0c4b7",
   "metadata": {},
   "outputs": [
    {
     "data": {
      "image/png": "[encoded data removed]",
      "text/plain": [
       "<Figure size 640x480 with 1 Axes>"
      ]
     },
     "metadata": {},
     "output_type": "display_data"
    }
   ],
   "source": [
    "sns.countplot(data.ContractRenewal);\n",
    "plt.savefig(\"ContRenw.png\", format=\"png\", bbox_inches=\"tight\")"
   ]
  },
  {
   "cell_type": "code",
   "execution_count": 17,
   "id": "e575071a",
   "metadata": {},
   "outputs": [
    {
     "data": {
      "text/plain": [
       "1    3010\n",
       "0     323\n",
       "Name: ContractRenewal, dtype: int64"
      ]
     },
     "execution_count": 17,
     "metadata": {},
     "output_type": "execute_result"
    }
   ],
   "source": [
    "data.ContractRenewal.value_counts()"
   ]
  },
  {
   "cell_type": "code",
   "execution_count": null,
   "id": "70ce74cc",
   "metadata": {},
   "outputs": [],
   "source": []
  },
  {
   "cell_type": "markdown",
   "id": "50f224d6",
   "metadata": {},
   "source": [
    "## (4) DataPlan"
   ]
  },
  {
   "cell_type": "code",
   "execution_count": 18,
   "id": "82466b38",
   "metadata": {},
   "outputs": [
    {
     "data": {
      "text/plain": [
       "0       1\n",
       "1       1\n",
       "2       0\n",
       "3       0\n",
       "4       0\n",
       "       ..\n",
       "3328    1\n",
       "3329    0\n",
       "3330    0\n",
       "3331    0\n",
       "3332    1\n",
       "Name: DataPlan, Length: 3333, dtype: int64"
      ]
     },
     "execution_count": 18,
     "metadata": {},
     "output_type": "execute_result"
    }
   ],
   "source": [
    "data.DataPlan"
   ]
  },
  {
   "cell_type": "code",
   "execution_count": 19,
   "id": "854a7011",
   "metadata": {},
   "outputs": [
    {
     "data": {
      "image/png": "[encoded data removed]",
      "text/plain": [
       "<Figure size 640x480 with 1 Axes>"
      ]
     },
     "metadata": {},
     "output_type": "display_data"
    }
   ],
   "source": [
    "sns.countplot(data.DataPlan);"
   ]
  },
  {
   "cell_type": "code",
   "execution_count": 20,
   "id": "8171a491",
   "metadata": {},
   "outputs": [
    {
     "data": {
      "text/plain": [
       "0    2411\n",
       "1     922\n",
       "Name: DataPlan, dtype: int64"
      ]
     },
     "execution_count": 20,
     "metadata": {},
     "output_type": "execute_result"
    }
   ],
   "source": [
    "data.DataPlan.value_counts()"
   ]
  },
  {
   "cell_type": "markdown",
   "id": "cc5dd816",
   "metadata": {},
   "source": [
    "## (5) DataUsage"
   ]
  },
  {
   "cell_type": "code",
   "execution_count": 21,
   "id": "5557baca",
   "metadata": {},
   "outputs": [
    {
     "data": {
      "text/plain": [
       "0       2.70\n",
       "1       3.70\n",
       "2       0.00\n",
       "3       0.00\n",
       "4       0.00\n",
       "        ... \n",
       "3328    2.67\n",
       "3329    0.34\n",
       "3330    0.00\n",
       "3331    0.00\n",
       "3332    3.70\n",
       "Name: DataUsage, Length: 3333, dtype: float64"
      ]
     },
     "execution_count": 21,
     "metadata": {},
     "output_type": "execute_result"
    }
   ],
   "source": [
    "data.DataUsage"
   ]
  },
  {
   "cell_type": "code",
   "execution_count": 22,
   "id": "ae3efbfd",
   "metadata": {},
   "outputs": [
    {
     "data": {
      "image/png": "[encoded data removed]",
      "text/plain": [
       "<Figure size 640x480 with 1 Axes>"
      ]
     },
     "metadata": {},
     "output_type": "display_data"
    }
   ],
   "source": [
    "sns.distplot(data.DataUsage);\n",
    "plt.savefig(\"DataUsage.png\", format=\"png\", bbox_inches=\"tight\")\n"
   ]
  },
  {
   "cell_type": "markdown",
   "id": "6e4cf9e7",
   "metadata": {},
   "source": [
    "## (6) CustServCalls"
   ]
  },
  {
   "cell_type": "code",
   "execution_count": 23,
   "id": "d5fbe975",
   "metadata": {},
   "outputs": [
    {
     "data": {
      "text/plain": [
       "0       1\n",
       "1       1\n",
       "2       0\n",
       "3       2\n",
       "4       3\n",
       "       ..\n",
       "3328    2\n",
       "3329    3\n",
       "3330    2\n",
       "3331    2\n",
       "3332    0\n",
       "Name: CustServCalls, Length: 3333, dtype: int64"
      ]
     },
     "execution_count": 23,
     "metadata": {},
     "output_type": "execute_result"
    }
   ],
   "source": [
    "data.CustServCalls"
   ]
  },
  {
   "cell_type": "code",
   "execution_count": 119,
   "id": "cf3e7466",
   "metadata": {},
   "outputs": [
    {
     "data": {
      "image/png": "[encoded data removed]",
      "text/plain": [
       "<Figure size 640x480 with 1 Axes>"
      ]
     },
     "metadata": {},
     "output_type": "display_data"
    }
   ],
   "source": [
    "sns.distplot(data.CustServCalls);\n",
    "plt.savefig(\"CustServCall.png\", format=\"png\", bbox_inches=\"tight\")"
   ]
  },
  {
   "cell_type": "markdown",
   "id": "91ed5bae",
   "metadata": {},
   "source": [
    "## (7) DayMins"
   ]
  },
  {
   "cell_type": "code",
   "execution_count": 25,
   "id": "7125d352",
   "metadata": {},
   "outputs": [
    {
     "data": {
      "text/plain": [
       "0       265.1\n",
       "1       161.6\n",
       "2       243.4\n",
       "3       299.4\n",
       "4       166.7\n",
       "        ...  \n",
       "3328    156.2\n",
       "3329    231.1\n",
       "3330    180.8\n",
       "3331    213.8\n",
       "3332    234.4\n",
       "Name: DayMins, Length: 3333, dtype: float64"
      ]
     },
     "execution_count": 25,
     "metadata": {},
     "output_type": "execute_result"
    }
   ],
   "source": [
    "data.DayMins"
   ]
  },
  {
   "cell_type": "code",
   "execution_count": 120,
   "id": "cfb95a0d",
   "metadata": {},
   "outputs": [
    {
     "data": {
      "image/png": "[encoded data removed]",
      "text/plain": [
       "<Figure size 640x480 with 1 Axes>"
      ]
     },
     "metadata": {},
     "output_type": "display_data"
    }
   ],
   "source": [
    "sns.distplot(data.DayMins);\n",
    "plt.savefig(\"DayMins.png\", format=\"png\", bbox_inches=\"tight\")"
   ]
  },
  {
   "cell_type": "markdown",
   "id": "e97b0422",
   "metadata": {},
   "source": [
    "## (8) DayCalls"
   ]
  },
  {
   "cell_type": "code",
   "execution_count": 27,
   "id": "78ca3d1c",
   "metadata": {},
   "outputs": [
    {
     "data": {
      "text/plain": [
       "0       110\n",
       "1       123\n",
       "2       114\n",
       "3        71\n",
       "4       113\n",
       "       ... \n",
       "3328     77\n",
       "3329     57\n",
       "3330    109\n",
       "3331    105\n",
       "3332    113\n",
       "Name: DayCalls, Length: 3333, dtype: int64"
      ]
     },
     "execution_count": 27,
     "metadata": {},
     "output_type": "execute_result"
    }
   ],
   "source": [
    "data.DayCalls"
   ]
  },
  {
   "cell_type": "code",
   "execution_count": 28,
   "id": "c2762214",
   "metadata": {},
   "outputs": [
    {
     "data": {
      "image/png": "[encoded data removed]",
      "text/plain": [
       "<Figure size 640x480 with 1 Axes>"
      ]
     },
     "metadata": {},
     "output_type": "display_data"
    }
   ],
   "source": [
    "sns.distplot(data.DayCalls);"
   ]
  },
  {
   "cell_type": "code",
   "execution_count": null,
   "id": "5460a893",
   "metadata": {},
   "outputs": [],
   "source": []
  },
  {
   "cell_type": "markdown",
   "id": "8b5fa848",
   "metadata": {},
   "source": [
    "## (9) MonthlyCharge"
   ]
  },
  {
   "cell_type": "code",
   "execution_count": 29,
   "id": "06879248",
   "metadata": {},
   "outputs": [
    {
     "data": {
      "text/plain": [
       "0        89.0\n",
       "1        82.0\n",
       "2        52.0\n",
       "3        57.0\n",
       "4        41.0\n",
       "        ...  \n",
       "3328     71.7\n",
       "3329     56.4\n",
       "3330     56.0\n",
       "3331     50.0\n",
       "3332    100.0\n",
       "Name: MonthlyCharge, Length: 3333, dtype: float64"
      ]
     },
     "execution_count": 29,
     "metadata": {},
     "output_type": "execute_result"
    }
   ],
   "source": [
    "data.MonthlyCharge"
   ]
  },
  {
   "cell_type": "code",
   "execution_count": 30,
   "id": "8b8d3866",
   "metadata": {},
   "outputs": [
    {
     "data": {
      "image/png": "[encoded data removed]",
      "text/plain": [
       "<Figure size 640x480 with 1 Axes>"
      ]
     },
     "metadata": {},
     "output_type": "display_data"
    }
   ],
   "source": [
    "sns.distplot(data.MonthlyCharge);"
   ]
  },
  {
   "cell_type": "markdown",
   "id": "fddaf5e4",
   "metadata": {},
   "source": [
    "## (10) OverageFee"
   ]
  },
  {
   "cell_type": "code",
   "execution_count": 31,
   "id": "bfede072",
   "metadata": {},
   "outputs": [
    {
     "data": {
      "text/plain": [
       "0        9.87\n",
       "1        9.78\n",
       "2        6.06\n",
       "3        3.10\n",
       "4        7.42\n",
       "        ...  \n",
       "3328    10.78\n",
       "3329     7.67\n",
       "3330    14.44\n",
       "3331     7.98\n",
       "3332    13.30\n",
       "Name: OverageFee, Length: 3333, dtype: float64"
      ]
     },
     "execution_count": 31,
     "metadata": {},
     "output_type": "execute_result"
    }
   ],
   "source": [
    "data.OverageFee"
   ]
  },
  {
   "cell_type": "code",
   "execution_count": 121,
   "id": "9f2ced5c",
   "metadata": {},
   "outputs": [
    {
     "data": {
      "image/png": "[encoded data removed]",
      "text/plain": [
       "<Figure size 640x480 with 1 Axes>"
      ]
     },
     "metadata": {},
     "output_type": "display_data"
    }
   ],
   "source": [
    "sns.distplot(data.OverageFee);\n",
    "plt.savefig(\"OverageFee.png\", format=\"png\", bbox_inches=\"tight\")"
   ]
  },
  {
   "cell_type": "markdown",
   "id": "ce4caaea",
   "metadata": {},
   "source": [
    "## (11) RoamMins"
   ]
  },
  {
   "cell_type": "code",
   "execution_count": 33,
   "id": "5c29ae51",
   "metadata": {},
   "outputs": [
    {
     "data": {
      "text/plain": [
       "0       10.0\n",
       "1       13.7\n",
       "2       12.2\n",
       "3        6.6\n",
       "4       10.1\n",
       "        ... \n",
       "3328     9.9\n",
       "3329     9.6\n",
       "3330    14.1\n",
       "3331     5.0\n",
       "3332    13.7\n",
       "Name: RoamMins, Length: 3333, dtype: float64"
      ]
     },
     "execution_count": 33,
     "metadata": {},
     "output_type": "execute_result"
    }
   ],
   "source": [
    "data.RoamMins"
   ]
  },
  {
   "cell_type": "code",
   "execution_count": 122,
   "id": "b9d7a62b",
   "metadata": {},
   "outputs": [
    {
     "data": {
      "image/png": "[encoded data removed]",
      "text/plain": [
       "<Figure size 640x480 with 1 Axes>"
      ]
     },
     "metadata": {},
     "output_type": "display_data"
    }
   ],
   "source": [
    "sns.distplot(data.RoamMins);\n",
    "plt.savefig(\"RoamMins.png\", format=\"png\", bbox_inches=\"tight\")"
   ]
  },
  {
   "cell_type": "markdown",
   "id": "8b159341",
   "metadata": {},
   "source": [
    "# BIVARIATE ANALYSIS:-"
   ]
  },
  {
   "cell_type": "markdown",
   "id": "fd8f0b8c",
   "metadata": {},
   "source": [
    "## (1) Churn Vs AccountWeeks "
   ]
  },
  {
   "cell_type": "code",
   "execution_count": 35,
   "id": "f8f312df",
   "metadata": {},
   "outputs": [
    {
     "data": {
      "image/png": "[encoded data removed]",
      "text/plain": [
       "<Figure size 640x480 with 1 Axes>"
      ]
     },
     "metadata": {},
     "output_type": "display_data"
    }
   ],
   "source": [
    "sns.boxplot(data.Churn,data.AccountWeeks);"
   ]
  },
  {
   "cell_type": "code",
   "execution_count": 36,
   "id": "7a615029",
   "metadata": {},
   "outputs": [
    {
     "name": "stdout",
     "output_type": "stream",
     "text": [
      "There is no significant difference between the groups.\n"
     ]
    }
   ],
   "source": [
    "from scipy import stats\n",
    "your_data = data\n",
    "# Separate the data into two groups\n",
    "group1 = your_data[your_data['Churn'] == 0]['AccountWeeks']\n",
    "group2 = your_data[your_data['Churn'] == 1]['AccountWeeks']\n",
    "\n",
    "# Perform the t-test\n",
    "t_statistic, p_value = stats.ttest_ind(group1, group2, equal_var=True)\n",
    "\n",
    "# Check the p-value to determine statistical significance\n",
    "if p_value < 0.05:  # You can choose your desired significance level\n",
    "    print(\"There is a significant difference between the groups.\")\n",
    "else:\n",
    "    print(\"There is no significant difference between the groups.\")"
   ]
  },
  {
   "cell_type": "markdown",
   "id": "abd8c361",
   "metadata": {},
   "source": [
    "## (2) Churn Vs ContractRenewal"
   ]
  },
  {
   "cell_type": "code",
   "execution_count": 37,
   "id": "f3212e5f",
   "metadata": {},
   "outputs": [
    {
     "name": "stdout",
     "output_type": "stream",
     "text": [
      "ContractRenewal    0     1\n",
      "Churn                     \n",
      "0                186  2664\n",
      "1                137   346\n"
     ]
    }
   ],
   "source": [
    "contingency_table = pd.crosstab(data['Churn'],data['ContractRenewal'])\n",
    "print(contingency_table)"
   ]
  },
  {
   "cell_type": "code",
   "execution_count": 38,
   "id": "8a851fc0",
   "metadata": {},
   "outputs": [
    {
     "name": "stdout",
     "output_type": "stream",
     "text": [
      "Chi-Squared Statistic: 222.56575664993764\n",
      "P-value: 2.4931077033159204e-50\n",
      "There is significant assosiation\n"
     ]
    }
   ],
   "source": [
    "# Perform the chi-squared test\n",
    "chi2, p, _, _ = chi2_contingency(contingency_table)\n",
    "\n",
    "# Print the chi-squared statistic and p-value\n",
    "print(f\"Chi-Squared Statistic: {chi2}\")\n",
    "print(f\"P-value: {p}\")\n",
    "\n",
    "alpha = 0.05\n",
    "\n",
    "if p < alpha:\n",
    "    print('There is significant assosiation')\n",
    "else:\n",
    "    print('There is no significant association')"
   ]
  },
  {
   "cell_type": "markdown",
   "id": "79b53a19",
   "metadata": {},
   "source": [
    "## (3) Churn Vs DataPlan"
   ]
  },
  {
   "cell_type": "code",
   "execution_count": 39,
   "id": "e91c40d1",
   "metadata": {},
   "outputs": [
    {
     "name": "stdout",
     "output_type": "stream",
     "text": [
      "DataPlan     0    1\n",
      "Churn              \n",
      "0         2008  842\n",
      "1          403   80\n"
     ]
    }
   ],
   "source": [
    "contingency_table = pd.crosstab(data['Churn'],data['DataPlan'])\n",
    "print(contingency_table)"
   ]
  },
  {
   "cell_type": "code",
   "execution_count": 40,
   "id": "4e4594fc",
   "metadata": {
    "scrolled": true
   },
   "outputs": [
    {
     "name": "stdout",
     "output_type": "stream",
     "text": [
      "Chi-Squared Statistic: 34.13166001075673\n",
      "P-value: 5.15063965903898e-09\n",
      "There is significant assosiation\n"
     ]
    }
   ],
   "source": [
    "# Perform the chi-squared test\n",
    "chi2, p, _, _ = chi2_contingency(contingency_table)\n",
    "\n",
    "# Print the chi-squared statistic and p-value\n",
    "print(f\"Chi-Squared Statistic: {chi2}\")\n",
    "print(f\"P-value: {p}\")\n",
    "\n",
    "alpha = 0.05\n",
    "\n",
    "if p < alpha:\n",
    "    print('There is significant assosiation')\n",
    "else:\n",
    "    print('There is no significant association')"
   ]
  },
  {
   "cell_type": "markdown",
   "id": "5dc28973",
   "metadata": {},
   "source": [
    "## (4) Churn Vs DataUsage"
   ]
  },
  {
   "cell_type": "code",
   "execution_count": 97,
   "id": "a6998097",
   "metadata": {},
   "outputs": [
    {
     "data": {
      "image/png": "[encoded data removed]",
      "text/plain": [
       "<Figure size 640x480 with 1 Axes>"
      ]
     },
     "metadata": {},
     "output_type": "display_data"
    }
   ],
   "source": [
    "sns.boxplot(data.Churn, data.DataUsage)\n",
    "plt.savefig(\"Churn_DataUsages.png\", format=\"png\", bbox_inches=\"tight\")"
   ]
  },
  {
   "cell_type": "code",
   "execution_count": 42,
   "id": "f89b9cb5",
   "metadata": {},
   "outputs": [
    {
     "name": "stdout",
     "output_type": "stream",
     "text": [
      "There is a significant difference between the groups.\n"
     ]
    }
   ],
   "source": [
    "from scipy import stats\n",
    "\n",
    "# Separate the data into two groups\n",
    "group1 = data[data['Churn'] == 0]['DataUsage']\n",
    "group2 = data[data['Churn'] == 1]['DataUsage']\n",
    "\n",
    "# Perform the t-test\n",
    "t_statistic, p_value = stats.ttest_ind(group1, group2, equal_var=True)\n",
    "\n",
    "# Check the p-value to determine statistical significance\n",
    "if p_value < 0.05:  # You can choose your desired significance level\n",
    "    print(\"There is a significant difference between the groups.\")\n",
    "else:\n",
    "    print(\"There is no significant difference between the groups.\")"
   ]
  },
  {
   "cell_type": "markdown",
   "id": "3c918989",
   "metadata": {},
   "source": [
    "## (5) Churn Vs CustServCalls"
   ]
  },
  {
   "cell_type": "code",
   "execution_count": 98,
   "id": "e2380622",
   "metadata": {},
   "outputs": [
    {
     "data": {
      "image/png": "[encoded data removed]",
      "text/plain": [
       "<Figure size 640x480 with 1 Axes>"
      ]
     },
     "metadata": {},
     "output_type": "display_data"
    }
   ],
   "source": [
    "sns.boxplot(data.Churn,data.CustServCalls);\n",
    "plt.savefig(\"Churn_CustServCalls.png\", format=\"png\", bbox_inches=\"tight\")"
   ]
  },
  {
   "cell_type": "code",
   "execution_count": 44,
   "id": "024b7f03",
   "metadata": {},
   "outputs": [
    {
     "name": "stdout",
     "output_type": "stream",
     "text": [
      "There is a significant difference between the groups.\n"
     ]
    }
   ],
   "source": [
    "# Separate the data into two groups\n",
    "group1 = data[data['Churn'] == 0]['CustServCalls']\n",
    "group2 = data[data['Churn'] == 1]['CustServCalls']\n",
    "\n",
    "# Perform the t-test\n",
    "t_statistic, p_value = stats.ttest_ind(group1, group2, equal_var=True)\n",
    "\n",
    "# Check the p-value to determine statistical significance\n",
    "if p_value < 0.05:  # You can choose your desired significance level\n",
    "    print(\"There is a significant difference between the groups.\")\n",
    "else:\n",
    "    print(\"There is no significant difference between the groups.\")"
   ]
  },
  {
   "cell_type": "markdown",
   "id": "8db6ef8f",
   "metadata": {},
   "source": [
    "## (6) Churn Vs DayMins"
   ]
  },
  {
   "cell_type": "code",
   "execution_count": 99,
   "id": "abafaca0",
   "metadata": {
    "scrolled": false
   },
   "outputs": [
    {
     "data": {
      "image/png": "[encoded data removed]",
      "text/plain": [
       "<Figure size 640x480 with 1 Axes>"
      ]
     },
     "metadata": {},
     "output_type": "display_data"
    }
   ],
   "source": [
    "sns.boxplot(data.Churn,data.DayMins);\n",
    "plt.savefig(\"Churn_DayMins.png\", format=\"png\", bbox_inches=\"tight\")"
   ]
  },
  {
   "cell_type": "code",
   "execution_count": 46,
   "id": "618310af",
   "metadata": {},
   "outputs": [
    {
     "name": "stdout",
     "output_type": "stream",
     "text": [
      "There is a significant difference between the groups.\n"
     ]
    }
   ],
   "source": [
    "# Separate the data into two groups\n",
    "group1 = data[data['Churn'] == 0]['DayMins']\n",
    "group2 = data[data['Churn'] == 1]['DayMins']\n",
    "\n",
    "# Perform the t-test\n",
    "t_statistic, p_value = stats.ttest_ind(group1, group2, equal_var=True)\n",
    "\n",
    "# Check the p-value to determine statistical significance\n",
    "if p_value < 0.05:  # You can choose your desired significance level\n",
    "    print(\"There is a significant difference between the groups.\")\n",
    "else:\n",
    "    print(\"There is no significant difference between the groups.\")"
   ]
  },
  {
   "cell_type": "markdown",
   "id": "97c0167e",
   "metadata": {},
   "source": [
    "## (7) Churn Vs DayCalls"
   ]
  },
  {
   "cell_type": "code",
   "execution_count": 100,
   "id": "fac5fa40",
   "metadata": {},
   "outputs": [
    {
     "data": {
      "image/png": "[encoded data removed]",
      "text/plain": [
       "<Figure size 640x480 with 1 Axes>"
      ]
     },
     "metadata": {},
     "output_type": "display_data"
    }
   ],
   "source": [
    "sns.boxplot(data.Churn,data.DayCalls);"
   ]
  },
  {
   "cell_type": "code",
   "execution_count": 48,
   "id": "bbbc81c2",
   "metadata": {},
   "outputs": [
    {
     "name": "stdout",
     "output_type": "stream",
     "text": [
      "There is no significant difference between the groups.\n"
     ]
    }
   ],
   "source": [
    "# Separate the data into two groups\n",
    "group1 = data[data['Churn'] == 0]['DayCalls']\n",
    "group2 = data[data['Churn'] == 1]['DayCalls']\n",
    "\n",
    "# Perform the t-test\n",
    "t_statistic, p_value = stats.ttest_ind(group1, group2, equal_var=True)\n",
    "\n",
    "# Check the p-value to determine statistical significance\n",
    "if p_value < 0.05:  # You can choose your desired significance level\n",
    "    print(\"There is a significant difference between the groups.\")\n",
    "else:\n",
    "    print(\"There is no significant difference between the groups.\")"
   ]
  },
  {
   "cell_type": "markdown",
   "id": "cb09261a",
   "metadata": {},
   "source": [
    "## (8) Churn Vs MonthlyCharge"
   ]
  },
  {
   "cell_type": "code",
   "execution_count": 101,
   "id": "6cafa627",
   "metadata": {},
   "outputs": [
    {
     "data": {
      "image/png": "[encoded data removed]",
      "text/plain": [
       "<Figure size 640x480 with 1 Axes>"
      ]
     },
     "metadata": {},
     "output_type": "display_data"
    }
   ],
   "source": [
    "sns.boxplot(data.Churn, data.MonthlyCharge);"
   ]
  },
  {
   "cell_type": "code",
   "execution_count": 50,
   "id": "de2b4967",
   "metadata": {},
   "outputs": [
    {
     "name": "stdout",
     "output_type": "stream",
     "text": [
      "There is no significant difference between the groups.\n"
     ]
    }
   ],
   "source": [
    "# Separate the data into two groups\n",
    "group1 = data[data['Churn'] == 0]['DayCalls']\n",
    "group2 = data[data['Churn'] == 1]['DayCalls']\n",
    "\n",
    "# Perform the t-test\n",
    "t_statistic, p_value = stats.ttest_ind(group1, group2, equal_var=True)\n",
    "\n",
    "# Check the p-value to determine statistical significance\n",
    "if p_value < 0.05:  # You can choose your desired significance level\n",
    "    print(\"There is a significant difference between the groups.\")\n",
    "else:\n",
    "    print(\"There is no significant difference between the groups.\")"
   ]
  },
  {
   "cell_type": "markdown",
   "id": "6c8c771e",
   "metadata": {},
   "source": [
    "## (9) Churn Vs OverageFee"
   ]
  },
  {
   "cell_type": "code",
   "execution_count": 102,
   "id": "95892e90",
   "metadata": {},
   "outputs": [
    {
     "data": {
      "image/png": "[encoded data removed]",
      "text/plain": [
       "<Figure size 640x480 with 1 Axes>"
      ]
     },
     "metadata": {},
     "output_type": "display_data"
    }
   ],
   "source": [
    "sns.boxplot(data.Churn,data.OverageFee);\n",
    "plt.savefig(\"Churn_OverageFee.png\", format=\"png\", bbox_inches=\"tight\")"
   ]
  },
  {
   "cell_type": "code",
   "execution_count": 52,
   "id": "ce322bb9",
   "metadata": {},
   "outputs": [
    {
     "name": "stdout",
     "output_type": "stream",
     "text": [
      "There is a significant difference between the groups.\n"
     ]
    }
   ],
   "source": [
    "# Separate the data into two groups\n",
    "group1 = data[data['Churn'] == 0]['OverageFee']\n",
    "group2 = data[data['Churn'] == 1]['OverageFee']\n",
    "\n",
    "# Perform the t-test\n",
    "t_statistic, p_value = stats.ttest_ind(group1, group2, equal_var=True)\n",
    "\n",
    "# Check the p-value to determine statistical significance\n",
    "if p_value < 0.05:  # You can choose your desired significance level\n",
    "    print(\"There is a significant difference between the groups.\")\n",
    "else:\n",
    "    print(\"There is no significant difference between the groups.\")"
   ]
  },
  {
   "cell_type": "markdown",
   "id": "c9599c24",
   "metadata": {},
   "source": [
    "## (10) Churn Vs RoamMins"
   ]
  },
  {
   "cell_type": "code",
   "execution_count": 103,
   "id": "6122da6d",
   "metadata": {},
   "outputs": [
    {
     "data": {
      "image/png": "[encoded data removed]",
      "text/plain": [
       "<Figure size 640x480 with 1 Axes>"
      ]
     },
     "metadata": {},
     "output_type": "display_data"
    }
   ],
   "source": [
    "sns.boxplot(data.Churn,data.RoamMins);\n",
    "plt.savefig(\"Churn_RoamMins.png\", format=\"png\", bbox_inches=\"tight\")"
   ]
  },
  {
   "cell_type": "code",
   "execution_count": 54,
   "id": "3cb2cf3a",
   "metadata": {},
   "outputs": [
    {
     "name": "stdout",
     "output_type": "stream",
     "text": [
      "There is a significant difference between the groups.\n"
     ]
    }
   ],
   "source": [
    "# Separate the data into two groups\n",
    "group1 = data[data['Churn'] == 0]['RoamMins']\n",
    "group2 = data[data['Churn'] == 1]['RoamMins']\n",
    "\n",
    "# Perform the t-test\n",
    "t_statistic, p_value = stats.ttest_ind(group1, group2, equal_var=True)\n",
    "\n",
    "# Check the p-value to determine statistical significance\n",
    "if p_value < 0.05:  # You can choose your desired significance level\n",
    "    print(\"There is a significant difference between the groups.\")\n",
    "else:\n",
    "    print(\"There is no significant difference between the groups.\")\n"
   ]
  },
  {
   "cell_type": "markdown",
   "id": "3f632c82",
   "metadata": {},
   "source": [
    "# Preparing Data For ML Algorithms"
   ]
  },
  {
   "cell_type": "markdown",
   "id": "c06d88dd",
   "metadata": {},
   "source": [
    "## (1) Seperating Target and Predictor Variables"
   ]
  },
  {
   "cell_type": "code",
   "execution_count": 55,
   "id": "0188d3e4",
   "metadata": {},
   "outputs": [
    {
     "data": {
      "text/plain": [
       "((3333, 10), (3333,))"
      ]
     },
     "execution_count": 55,
     "metadata": {},
     "output_type": "execute_result"
    }
   ],
   "source": [
    "X = data.iloc[:,1:]\n",
    "y = data.iloc[:,0]\n",
    "X.shape,y.shape"
   ]
  },
  {
   "cell_type": "markdown",
   "id": "c10817c6",
   "metadata": {},
   "source": [
    "## (2) Splitting dataset into Train and Test"
   ]
  },
  {
   "cell_type": "code",
   "execution_count": 56,
   "id": "d246114b",
   "metadata": {},
   "outputs": [
    {
     "data": {
      "text/plain": [
       "((2666, 10), (667, 10), (2666,), (667,))"
      ]
     },
     "execution_count": 56,
     "metadata": {},
     "output_type": "execute_result"
    }
   ],
   "source": [
    "from sklearn.model_selection import train_test_split\n",
    "X_train,X_test,y_train,y_test = train_test_split(X,y,test_size=0.2,random_state=10)\n",
    "X_train.shape,X_test.shape,y_train.shape,y_test.shape"
   ]
  },
  {
   "cell_type": "code",
   "execution_count": 57,
   "id": "697b45b0",
   "metadata": {},
   "outputs": [
    {
     "data": {
      "text/plain": [
       "0    2278\n",
       "1     388\n",
       "Name: Churn, dtype: int64"
      ]
     },
     "execution_count": 57,
     "metadata": {},
     "output_type": "execute_result"
    }
   ],
   "source": [
    "y_train.value_counts() # Here train is only consists of negative class because of the imbalanced data"
   ]
  },
  {
   "cell_type": "markdown",
   "id": "e8be1459",
   "metadata": {},
   "source": [
    "## (3) Feature Scaling using MinMax Scaler"
   ]
  },
  {
   "cell_type": "code",
   "execution_count": 58,
   "id": "efd44b7b",
   "metadata": {},
   "outputs": [
    {
     "data": {
      "text/html": [
       "<div>\n",
       "<style scoped>\n",
       "    .dataframe tbody tr th:only-of-type {\n",
       "        vertical-align: middle;\n",
       "    }\n",
       "\n",
       "    .dataframe tbody tr th {\n",
       "        vertical-align: top;\n",
       "    }\n",
       "\n",
       "    .dataframe thead th {\n",
       "        text-align: right;\n",
       "    }\n",
       "</style>\n",
       "<table border=\"1\" class=\"dataframe\">\n",
       "  <thead>\n",
       "    <tr style=\"text-align: right;\">\n",
       "      <th></th>\n",
       "      <th>AccountWeeks</th>\n",
       "      <th>ContractRenewal</th>\n",
       "      <th>DataPlan</th>\n",
       "      <th>DataUsage</th>\n",
       "      <th>CustServCalls</th>\n",
       "      <th>DayMins</th>\n",
       "      <th>DayCalls</th>\n",
       "      <th>MonthlyCharge</th>\n",
       "      <th>OverageFee</th>\n",
       "      <th>RoamMins</th>\n",
       "    </tr>\n",
       "  </thead>\n",
       "  <tbody>\n",
       "    <tr>\n",
       "      <th>0</th>\n",
       "      <td>0.739669</td>\n",
       "      <td>1.0</td>\n",
       "      <td>1.0</td>\n",
       "      <td>0.379630</td>\n",
       "      <td>0.111111</td>\n",
       "      <td>0.668397</td>\n",
       "      <td>0.472727</td>\n",
       "      <td>0.683453</td>\n",
       "      <td>0.606735</td>\n",
       "      <td>0.380</td>\n",
       "    </tr>\n",
       "    <tr>\n",
       "      <th>1</th>\n",
       "      <td>0.227273</td>\n",
       "      <td>1.0</td>\n",
       "      <td>1.0</td>\n",
       "      <td>0.635185</td>\n",
       "      <td>0.111111</td>\n",
       "      <td>0.350923</td>\n",
       "      <td>0.527273</td>\n",
       "      <td>0.588900</td>\n",
       "      <td>0.459411</td>\n",
       "      <td>0.635</td>\n",
       "    </tr>\n",
       "    <tr>\n",
       "      <th>2</th>\n",
       "      <td>0.413223</td>\n",
       "      <td>1.0</td>\n",
       "      <td>0.0</td>\n",
       "      <td>0.000000</td>\n",
       "      <td>0.444444</td>\n",
       "      <td>0.456747</td>\n",
       "      <td>0.557576</td>\n",
       "      <td>0.298047</td>\n",
       "      <td>0.471437</td>\n",
       "      <td>0.675</td>\n",
       "    </tr>\n",
       "    <tr>\n",
       "      <th>3</th>\n",
       "      <td>0.491736</td>\n",
       "      <td>1.0</td>\n",
       "      <td>0.0</td>\n",
       "      <td>0.000000</td>\n",
       "      <td>0.111111</td>\n",
       "      <td>0.475779</td>\n",
       "      <td>0.606061</td>\n",
       "      <td>0.431655</td>\n",
       "      <td>0.859892</td>\n",
       "      <td>0.415</td>\n",
       "    </tr>\n",
       "    <tr>\n",
       "      <th>4</th>\n",
       "      <td>0.322314</td>\n",
       "      <td>1.0</td>\n",
       "      <td>0.0</td>\n",
       "      <td>0.000000</td>\n",
       "      <td>0.222222</td>\n",
       "      <td>0.682814</td>\n",
       "      <td>0.818182</td>\n",
       "      <td>0.441932</td>\n",
       "      <td>0.466627</td>\n",
       "      <td>0.520</td>\n",
       "    </tr>\n",
       "    <tr>\n",
       "      <th>...</th>\n",
       "      <td>...</td>\n",
       "      <td>...</td>\n",
       "      <td>...</td>\n",
       "      <td>...</td>\n",
       "      <td>...</td>\n",
       "      <td>...</td>\n",
       "      <td>...</td>\n",
       "      <td>...</td>\n",
       "      <td>...</td>\n",
       "      <td>...</td>\n",
       "    </tr>\n",
       "    <tr>\n",
       "      <th>2661</th>\n",
       "      <td>0.314050</td>\n",
       "      <td>1.0</td>\n",
       "      <td>1.0</td>\n",
       "      <td>0.485185</td>\n",
       "      <td>0.222222</td>\n",
       "      <td>0.608708</td>\n",
       "      <td>0.539394</td>\n",
       "      <td>0.690647</td>\n",
       "      <td>0.578473</td>\n",
       "      <td>0.485</td>\n",
       "    </tr>\n",
       "    <tr>\n",
       "      <th>2662</th>\n",
       "      <td>0.454545</td>\n",
       "      <td>1.0</td>\n",
       "      <td>0.0</td>\n",
       "      <td>0.000000</td>\n",
       "      <td>0.000000</td>\n",
       "      <td>0.820069</td>\n",
       "      <td>0.539394</td>\n",
       "      <td>0.493320</td>\n",
       "      <td>0.378232</td>\n",
       "      <td>0.420</td>\n",
       "    </tr>\n",
       "    <tr>\n",
       "      <th>2663</th>\n",
       "      <td>0.388430</td>\n",
       "      <td>1.0</td>\n",
       "      <td>1.0</td>\n",
       "      <td>0.594444</td>\n",
       "      <td>0.000000</td>\n",
       "      <td>0.117935</td>\n",
       "      <td>0.763636</td>\n",
       "      <td>0.381295</td>\n",
       "      <td>0.307276</td>\n",
       "      <td>0.595</td>\n",
       "    </tr>\n",
       "    <tr>\n",
       "      <th>2664</th>\n",
       "      <td>0.119835</td>\n",
       "      <td>1.0</td>\n",
       "      <td>0.0</td>\n",
       "      <td>0.000000</td>\n",
       "      <td>0.000000</td>\n",
       "      <td>0.713379</td>\n",
       "      <td>0.648485</td>\n",
       "      <td>0.452210</td>\n",
       "      <td>0.435358</td>\n",
       "      <td>0.565</td>\n",
       "    </tr>\n",
       "    <tr>\n",
       "      <th>2665</th>\n",
       "      <td>0.528926</td>\n",
       "      <td>1.0</td>\n",
       "      <td>0.0</td>\n",
       "      <td>0.068519</td>\n",
       "      <td>0.000000</td>\n",
       "      <td>0.282584</td>\n",
       "      <td>0.600000</td>\n",
       "      <td>0.284687</td>\n",
       "      <td>0.630186</td>\n",
       "      <td>0.525</td>\n",
       "    </tr>\n",
       "  </tbody>\n",
       "</table>\n",
       "<p>2666 rows × 10 columns</p>\n",
       "</div>"
      ],
      "text/plain": [
       "      AccountWeeks  ContractRenewal  DataPlan  DataUsage  CustServCalls  \\\n",
       "0         0.739669              1.0       1.0   0.379630       0.111111   \n",
       "1         0.227273              1.0       1.0   0.635185       0.111111   \n",
       "2         0.413223              1.0       0.0   0.000000       0.444444   \n",
       "3         0.491736              1.0       0.0   0.000000       0.111111   \n",
       "4         0.322314              1.0       0.0   0.000000       0.222222   \n",
       "...            ...              ...       ...        ...            ...   \n",
       "2661      0.314050              1.0       1.0   0.485185       0.222222   \n",
       "2662      0.454545              1.0       0.0   0.000000       0.000000   \n",
       "2663      0.388430              1.0       1.0   0.594444       0.000000   \n",
       "2664      0.119835              1.0       0.0   0.000000       0.000000   \n",
       "2665      0.528926              1.0       0.0   0.068519       0.000000   \n",
       "\n",
       "       DayMins  DayCalls  MonthlyCharge  OverageFee  RoamMins  \n",
       "0     0.668397  0.472727       0.683453    0.606735     0.380  \n",
       "1     0.350923  0.527273       0.588900    0.459411     0.635  \n",
       "2     0.456747  0.557576       0.298047    0.471437     0.675  \n",
       "3     0.475779  0.606061       0.431655    0.859892     0.415  \n",
       "4     0.682814  0.818182       0.441932    0.466627     0.520  \n",
       "...        ...       ...            ...         ...       ...  \n",
       "2661  0.608708  0.539394       0.690647    0.578473     0.485  \n",
       "2662  0.820069  0.539394       0.493320    0.378232     0.420  \n",
       "2663  0.117935  0.763636       0.381295    0.307276     0.595  \n",
       "2664  0.713379  0.648485       0.452210    0.435358     0.565  \n",
       "2665  0.282584  0.600000       0.284687    0.630186     0.525  \n",
       "\n",
       "[2666 rows x 10 columns]"
      ]
     },
     "execution_count": 58,
     "metadata": {},
     "output_type": "execute_result"
    }
   ],
   "source": [
    "from sklearn.preprocessing import MinMaxScaler\n",
    "MM = MinMaxScaler()\n",
    "X_train = pd.DataFrame(MM.fit_transform(X_train),columns = X_train.columns)\n",
    "X_train"
   ]
  },
  {
   "cell_type": "markdown",
   "id": "d52c8b05",
   "metadata": {},
   "source": [
    "## (4) Treating imbalanced target variable"
   ]
  },
  {
   "cell_type": "code",
   "execution_count": 59,
   "id": "9d2af7c4",
   "metadata": {},
   "outputs": [],
   "source": [
    "from imblearn.over_sampling import SMOTE\n",
    "\n",
    "SM = SMOTE(sampling_strategy='auto',k_neighbors=1,random_state=10)"
   ]
  },
  {
   "cell_type": "code",
   "execution_count": 60,
   "id": "37ea80ea",
   "metadata": {},
   "outputs": [],
   "source": [
    "X_resample,y_resample = SM.fit_resample(X_train,y_train)"
   ]
  },
  {
   "cell_type": "code",
   "execution_count": 61,
   "id": "7842c993",
   "metadata": {},
   "outputs": [
    {
     "data": {
      "text/plain": [
       "0    2278\n",
       "1     388\n",
       "Name: Churn, dtype: int64"
      ]
     },
     "execution_count": 61,
     "metadata": {},
     "output_type": "execute_result"
    }
   ],
   "source": [
    "y_train.value_counts()"
   ]
  },
  {
   "cell_type": "code",
   "execution_count": 104,
   "id": "66dd4db1",
   "metadata": {},
   "outputs": [
    {
     "data": {
      "image/png": "[encoded data removed]",
      "text/plain": [
       "<Figure size 640x480 with 1 Axes>"
      ]
     },
     "metadata": {},
     "output_type": "display_data"
    }
   ],
   "source": [
    "sns.countplot(y_train);\n",
    "plt.savefig(\"y_train.png\", format=\"png\", bbox_inches=\"tight\")"
   ]
  },
  {
   "cell_type": "code",
   "execution_count": 63,
   "id": "4b679123",
   "metadata": {},
   "outputs": [
    {
     "data": {
      "text/plain": [
       "0    2278\n",
       "1    2278\n",
       "Name: Churn, dtype: int64"
      ]
     },
     "execution_count": 63,
     "metadata": {},
     "output_type": "execute_result"
    }
   ],
   "source": [
    "y_resample.value_counts()"
   ]
  },
  {
   "cell_type": "code",
   "execution_count": 105,
   "id": "b20ee6b1",
   "metadata": {},
   "outputs": [
    {
     "data": {
      "image/png": "[encoded data removed]",
      "text/plain": [
       "<Figure size 640x480 with 1 Axes>"
      ]
     },
     "metadata": {},
     "output_type": "display_data"
    }
   ],
   "source": [
    "sns.countplot(y_resample);\n",
    "plt.savefig(\"y_resample.png\", format=\"png\", bbox_inches=\"tight\")"
   ]
  },
  {
   "cell_type": "markdown",
   "id": "b307b45f",
   "metadata": {},
   "source": [
    "# Traing the Model using Logistic Regression"
   ]
  },
  {
   "cell_type": "code",
   "execution_count": 65,
   "id": "4bd41892",
   "metadata": {},
   "outputs": [
    {
     "data": {
      "text/plain": [
       "LogisticRegression()"
      ]
     },
     "execution_count": 65,
     "metadata": {},
     "output_type": "execute_result"
    }
   ],
   "source": [
    "from sklearn.linear_model import LogisticRegression\n",
    "clf = LogisticRegression()\n",
    "clf.fit(X_resample,y_resample)"
   ]
  },
  {
   "cell_type": "markdown",
   "id": "f70770c2",
   "metadata": {},
   "source": [
    "### -------------------------------Model - 1"
   ]
  },
  {
   "cell_type": "markdown",
   "id": "d7e8f757",
   "metadata": {},
   "source": [
    "## Predicting the Labels for corresponding X_resample"
   ]
  },
  {
   "cell_type": "code",
   "execution_count": 66,
   "id": "25db29b5",
   "metadata": {},
   "outputs": [],
   "source": [
    "y_resemple_Predic = clf.predict(X_resample)"
   ]
  },
  {
   "cell_type": "markdown",
   "id": "17a4c385",
   "metadata": {},
   "source": [
    "## Performance Measure Matrices {Confusion Matrix}, {Accuracy_Score}, {Classification_Report}"
   ]
  },
  {
   "cell_type": "code",
   "execution_count": 67,
   "id": "15e86e62",
   "metadata": {},
   "outputs": [],
   "source": [
    "from sklearn.metrics import confusion_matrix,accuracy_score,classification_report"
   ]
  },
  {
   "cell_type": "code",
   "execution_count": 68,
   "id": "f7ede06b",
   "metadata": {},
   "outputs": [
    {
     "name": "stdout",
     "output_type": "stream",
     "text": [
      "[[1775  503]\n",
      " [ 528 1750]]\n"
     ]
    }
   ],
   "source": [
    "print(confusion_matrix(y_resample,y_resemple_Predic))"
   ]
  },
  {
   "cell_type": "code",
   "execution_count": 107,
   "id": "caf0023c",
   "metadata": {},
   "outputs": [
    {
     "name": "stdout",
     "output_type": "stream",
     "text": [
      "          Negative  Positive\n",
      "Negative      1775       503\n",
      "Positive       528      1750\n"
     ]
    }
   ],
   "source": [
    "cm = confusion_matrix(y_resample,y_resemple_Predic)\n",
    "\n",
    "labels = [\"Negative\", \"Positive\"]\n",
    "cm_df = pd.DataFrame(cm, index=labels, columns=labels)\n",
    "\n",
    "print(cm_df)"
   ]
  },
  {
   "cell_type": "code",
   "execution_count": 69,
   "id": "6bfabf00",
   "metadata": {},
   "outputs": [
    {
     "data": {
      "text/plain": [
       "0.7737050043898156"
      ]
     },
     "execution_count": 69,
     "metadata": {},
     "output_type": "execute_result"
    }
   ],
   "source": [
    "accuracy_score(y_resample,y_resemple_Predic)"
   ]
  },
  {
   "cell_type": "code",
   "execution_count": 70,
   "id": "ba105b76",
   "metadata": {},
   "outputs": [
    {
     "name": "stdout",
     "output_type": "stream",
     "text": [
      "              precision    recall  f1-score   support\n",
      "\n",
      "           0       0.77      0.78      0.77      2278\n",
      "           1       0.78      0.77      0.77      2278\n",
      "\n",
      "    accuracy                           0.77      4556\n",
      "   macro avg       0.77      0.77      0.77      4556\n",
      "weighted avg       0.77      0.77      0.77      4556\n",
      "\n"
     ]
    }
   ],
   "source": [
    "print(classification_report(y_resample,y_resemple_Predic))"
   ]
  },
  {
   "cell_type": "markdown",
   "id": "15f81575",
   "metadata": {},
   "source": [
    "### -------------------------------Model - 2"
   ]
  },
  {
   "cell_type": "code",
   "execution_count": 71,
   "id": "7d838566",
   "metadata": {},
   "outputs": [
    {
     "data": {
      "text/html": [
       "<div>\n",
       "<style scoped>\n",
       "    .dataframe tbody tr th:only-of-type {\n",
       "        vertical-align: middle;\n",
       "    }\n",
       "\n",
       "    .dataframe tbody tr th {\n",
       "        vertical-align: top;\n",
       "    }\n",
       "\n",
       "    .dataframe thead th {\n",
       "        text-align: right;\n",
       "    }\n",
       "</style>\n",
       "<table border=\"1\" class=\"dataframe\">\n",
       "  <thead>\n",
       "    <tr style=\"text-align: right;\">\n",
       "      <th></th>\n",
       "      <th>AccountWeeks</th>\n",
       "      <th>ContractRenewal</th>\n",
       "      <th>DataPlan</th>\n",
       "      <th>DataUsage</th>\n",
       "      <th>CustServCalls</th>\n",
       "      <th>DayMins</th>\n",
       "      <th>DayCalls</th>\n",
       "      <th>MonthlyCharge</th>\n",
       "      <th>OverageFee</th>\n",
       "      <th>RoamMins</th>\n",
       "    </tr>\n",
       "  </thead>\n",
       "  <tbody>\n",
       "    <tr>\n",
       "      <th>0</th>\n",
       "      <td>0.739669</td>\n",
       "      <td>1.0</td>\n",
       "      <td>1.0</td>\n",
       "      <td>0.379630</td>\n",
       "      <td>0.111111</td>\n",
       "      <td>0.668397</td>\n",
       "      <td>0.472727</td>\n",
       "      <td>0.683453</td>\n",
       "      <td>0.606735</td>\n",
       "      <td>0.380</td>\n",
       "    </tr>\n",
       "    <tr>\n",
       "      <th>1</th>\n",
       "      <td>0.227273</td>\n",
       "      <td>1.0</td>\n",
       "      <td>1.0</td>\n",
       "      <td>0.635185</td>\n",
       "      <td>0.111111</td>\n",
       "      <td>0.350923</td>\n",
       "      <td>0.527273</td>\n",
       "      <td>0.588900</td>\n",
       "      <td>0.459411</td>\n",
       "      <td>0.635</td>\n",
       "    </tr>\n",
       "    <tr>\n",
       "      <th>2</th>\n",
       "      <td>0.413223</td>\n",
       "      <td>1.0</td>\n",
       "      <td>0.0</td>\n",
       "      <td>0.000000</td>\n",
       "      <td>0.444444</td>\n",
       "      <td>0.456747</td>\n",
       "      <td>0.557576</td>\n",
       "      <td>0.298047</td>\n",
       "      <td>0.471437</td>\n",
       "      <td>0.675</td>\n",
       "    </tr>\n",
       "    <tr>\n",
       "      <th>3</th>\n",
       "      <td>0.491736</td>\n",
       "      <td>1.0</td>\n",
       "      <td>0.0</td>\n",
       "      <td>0.000000</td>\n",
       "      <td>0.111111</td>\n",
       "      <td>0.475779</td>\n",
       "      <td>0.606061</td>\n",
       "      <td>0.431655</td>\n",
       "      <td>0.859892</td>\n",
       "      <td>0.415</td>\n",
       "    </tr>\n",
       "    <tr>\n",
       "      <th>4</th>\n",
       "      <td>0.322314</td>\n",
       "      <td>1.0</td>\n",
       "      <td>0.0</td>\n",
       "      <td>0.000000</td>\n",
       "      <td>0.222222</td>\n",
       "      <td>0.682814</td>\n",
       "      <td>0.818182</td>\n",
       "      <td>0.441932</td>\n",
       "      <td>0.466627</td>\n",
       "      <td>0.520</td>\n",
       "    </tr>\n",
       "  </tbody>\n",
       "</table>\n",
       "</div>"
      ],
      "text/plain": [
       "   AccountWeeks  ContractRenewal  DataPlan  DataUsage  CustServCalls  \\\n",
       "0      0.739669              1.0       1.0   0.379630       0.111111   \n",
       "1      0.227273              1.0       1.0   0.635185       0.111111   \n",
       "2      0.413223              1.0       0.0   0.000000       0.444444   \n",
       "3      0.491736              1.0       0.0   0.000000       0.111111   \n",
       "4      0.322314              1.0       0.0   0.000000       0.222222   \n",
       "\n",
       "    DayMins  DayCalls  MonthlyCharge  OverageFee  RoamMins  \n",
       "0  0.668397  0.472727       0.683453    0.606735     0.380  \n",
       "1  0.350923  0.527273       0.588900    0.459411     0.635  \n",
       "2  0.456747  0.557576       0.298047    0.471437     0.675  \n",
       "3  0.475779  0.606061       0.431655    0.859892     0.415  \n",
       "4  0.682814  0.818182       0.441932    0.466627     0.520  "
      ]
     },
     "execution_count": 71,
     "metadata": {},
     "output_type": "execute_result"
    }
   ],
   "source": [
    "X_resample.head()"
   ]
  },
  {
   "cell_type": "code",
   "execution_count": 72,
   "id": "ac3f34f4",
   "metadata": {},
   "outputs": [
    {
     "data": {
      "text/html": [
       "<div>\n",
       "<style scoped>\n",
       "    .dataframe tbody tr th:only-of-type {\n",
       "        vertical-align: middle;\n",
       "    }\n",
       "\n",
       "    .dataframe tbody tr th {\n",
       "        vertical-align: top;\n",
       "    }\n",
       "\n",
       "    .dataframe thead th {\n",
       "        text-align: right;\n",
       "    }\n",
       "</style>\n",
       "<table border=\"1\" class=\"dataframe\">\n",
       "  <thead>\n",
       "    <tr style=\"text-align: right;\">\n",
       "      <th></th>\n",
       "      <th>ContractRenewal</th>\n",
       "      <th>DataPlan</th>\n",
       "      <th>DataUsage</th>\n",
       "      <th>CustServCalls</th>\n",
       "      <th>DayMins</th>\n",
       "      <th>OverageFee</th>\n",
       "      <th>RoamMins</th>\n",
       "    </tr>\n",
       "  </thead>\n",
       "  <tbody>\n",
       "    <tr>\n",
       "      <th>0</th>\n",
       "      <td>1.0</td>\n",
       "      <td>1.0</td>\n",
       "      <td>0.379630</td>\n",
       "      <td>0.111111</td>\n",
       "      <td>0.668397</td>\n",
       "      <td>0.606735</td>\n",
       "      <td>0.380</td>\n",
       "    </tr>\n",
       "    <tr>\n",
       "      <th>1</th>\n",
       "      <td>1.0</td>\n",
       "      <td>1.0</td>\n",
       "      <td>0.635185</td>\n",
       "      <td>0.111111</td>\n",
       "      <td>0.350923</td>\n",
       "      <td>0.459411</td>\n",
       "      <td>0.635</td>\n",
       "    </tr>\n",
       "    <tr>\n",
       "      <th>2</th>\n",
       "      <td>1.0</td>\n",
       "      <td>0.0</td>\n",
       "      <td>0.000000</td>\n",
       "      <td>0.444444</td>\n",
       "      <td>0.456747</td>\n",
       "      <td>0.471437</td>\n",
       "      <td>0.675</td>\n",
       "    </tr>\n",
       "  </tbody>\n",
       "</table>\n",
       "</div>"
      ],
      "text/plain": [
       "   ContractRenewal  DataPlan  DataUsage  CustServCalls   DayMins  OverageFee  \\\n",
       "0              1.0       1.0   0.379630       0.111111  0.668397    0.606735   \n",
       "1              1.0       1.0   0.635185       0.111111  0.350923    0.459411   \n",
       "2              1.0       0.0   0.000000       0.444444  0.456747    0.471437   \n",
       "\n",
       "   RoamMins  \n",
       "0     0.380  \n",
       "1     0.635  \n",
       "2     0.675  "
      ]
     },
     "execution_count": 72,
     "metadata": {},
     "output_type": "execute_result"
    }
   ],
   "source": [
    "# Dropping Irrelivent Variable \n",
    "X_resample_2 = X_resample.drop(['AccountWeeks','DayCalls','MonthlyCharge'],axis=1)\n",
    "X_resample_2.head(3)"
   ]
  },
  {
   "cell_type": "code",
   "execution_count": 73,
   "id": "f469034a",
   "metadata": {},
   "outputs": [
    {
     "data": {
      "text/plain": [
       "LogisticRegression()"
      ]
     },
     "execution_count": 73,
     "metadata": {},
     "output_type": "execute_result"
    }
   ],
   "source": [
    "clf.fit(X_resample_2,y_resample)"
   ]
  },
  {
   "cell_type": "code",
   "execution_count": 74,
   "id": "c71ccb41",
   "metadata": {},
   "outputs": [],
   "source": [
    "y_resample_pred = clf.predict(X_resample_2)"
   ]
  },
  {
   "cell_type": "code",
   "execution_count": 75,
   "id": "5f2e662f",
   "metadata": {},
   "outputs": [
    {
     "name": "stdout",
     "output_type": "stream",
     "text": [
      "[[1769  509]\n",
      " [ 533 1745]]\n"
     ]
    }
   ],
   "source": [
    "print(confusion_matrix(y_resample,y_resample_pred))"
   ]
  },
  {
   "cell_type": "code",
   "execution_count": 108,
   "id": "92141998",
   "metadata": {},
   "outputs": [
    {
     "name": "stdout",
     "output_type": "stream",
     "text": [
      "          Negative  Positive\n",
      "Negative      1770       508\n",
      "Positive       524      1754\n"
     ]
    }
   ],
   "source": [
    "cm = confusion_matrix(y_resample,y_resample_pred)\n",
    "\n",
    "labels = [\"Negative\", \"Positive\"]\n",
    "cm_df = pd.DataFrame(cm, index=labels, columns=labels)\n",
    "\n",
    "print(cm_df)"
   ]
  },
  {
   "cell_type": "code",
   "execution_count": 76,
   "id": "bc008211",
   "metadata": {},
   "outputs": [
    {
     "data": {
      "text/plain": [
       "0.7712906057945567"
      ]
     },
     "execution_count": 76,
     "metadata": {},
     "output_type": "execute_result"
    }
   ],
   "source": [
    "accuracy_score(y_resample,y_resample_pred)"
   ]
  },
  {
   "cell_type": "code",
   "execution_count": 77,
   "id": "0f105e2f",
   "metadata": {},
   "outputs": [
    {
     "name": "stdout",
     "output_type": "stream",
     "text": [
      "              precision    recall  f1-score   support\n",
      "\n",
      "           0       0.77      0.78      0.77      2278\n",
      "           1       0.77      0.77      0.77      2278\n",
      "\n",
      "    accuracy                           0.77      4556\n",
      "   macro avg       0.77      0.77      0.77      4556\n",
      "weighted avg       0.77      0.77      0.77      4556\n",
      "\n"
     ]
    }
   ],
   "source": [
    "print(classification_report(y_resample,y_resample_pred))"
   ]
  },
  {
   "cell_type": "markdown",
   "id": "3abaa3aa",
   "metadata": {},
   "source": [
    "### -------------------------------Model - 3"
   ]
  },
  {
   "cell_type": "code",
   "execution_count": 109,
   "id": "076e22b5",
   "metadata": {},
   "outputs": [
    {
     "data": {
      "text/html": [
       "<div>\n",
       "<style scoped>\n",
       "    .dataframe tbody tr th:only-of-type {\n",
       "        vertical-align: middle;\n",
       "    }\n",
       "\n",
       "    .dataframe tbody tr th {\n",
       "        vertical-align: top;\n",
       "    }\n",
       "\n",
       "    .dataframe thead th {\n",
       "        text-align: right;\n",
       "    }\n",
       "</style>\n",
       "<table border=\"1\" class=\"dataframe\">\n",
       "  <thead>\n",
       "    <tr style=\"text-align: right;\">\n",
       "      <th></th>\n",
       "      <th>ContractRenewal</th>\n",
       "      <th>DataUsage</th>\n",
       "      <th>CustServCalls</th>\n",
       "      <th>DayMins</th>\n",
       "      <th>OverageFee</th>\n",
       "      <th>RoamMins</th>\n",
       "    </tr>\n",
       "  </thead>\n",
       "  <tbody>\n",
       "    <tr>\n",
       "      <th>0</th>\n",
       "      <td>1.0</td>\n",
       "      <td>0.379630</td>\n",
       "      <td>0.111111</td>\n",
       "      <td>0.668397</td>\n",
       "      <td>0.606735</td>\n",
       "      <td>0.380</td>\n",
       "    </tr>\n",
       "    <tr>\n",
       "      <th>1</th>\n",
       "      <td>1.0</td>\n",
       "      <td>0.635185</td>\n",
       "      <td>0.111111</td>\n",
       "      <td>0.350923</td>\n",
       "      <td>0.459411</td>\n",
       "      <td>0.635</td>\n",
       "    </tr>\n",
       "    <tr>\n",
       "      <th>2</th>\n",
       "      <td>1.0</td>\n",
       "      <td>0.000000</td>\n",
       "      <td>0.444444</td>\n",
       "      <td>0.456747</td>\n",
       "      <td>0.471437</td>\n",
       "      <td>0.675</td>\n",
       "    </tr>\n",
       "    <tr>\n",
       "      <th>3</th>\n",
       "      <td>1.0</td>\n",
       "      <td>0.000000</td>\n",
       "      <td>0.111111</td>\n",
       "      <td>0.475779</td>\n",
       "      <td>0.859892</td>\n",
       "      <td>0.415</td>\n",
       "    </tr>\n",
       "    <tr>\n",
       "      <th>4</th>\n",
       "      <td>1.0</td>\n",
       "      <td>0.000000</td>\n",
       "      <td>0.222222</td>\n",
       "      <td>0.682814</td>\n",
       "      <td>0.466627</td>\n",
       "      <td>0.520</td>\n",
       "    </tr>\n",
       "  </tbody>\n",
       "</table>\n",
       "</div>"
      ],
      "text/plain": [
       "   ContractRenewal  DataUsage  CustServCalls   DayMins  OverageFee  RoamMins\n",
       "0              1.0   0.379630       0.111111  0.668397    0.606735     0.380\n",
       "1              1.0   0.635185       0.111111  0.350923    0.459411     0.635\n",
       "2              1.0   0.000000       0.444444  0.456747    0.471437     0.675\n",
       "3              1.0   0.000000       0.111111  0.475779    0.859892     0.415\n",
       "4              1.0   0.000000       0.222222  0.682814    0.466627     0.520"
      ]
     },
     "execution_count": 109,
     "metadata": {},
     "output_type": "execute_result"
    }
   ],
   "source": [
    "#dropping DataPlan\n",
    "X_resample_3 = X_resample_2.drop(['DataPlan'],axis=1)\n",
    "X_resample_3.head()"
   ]
  },
  {
   "cell_type": "code",
   "execution_count": 110,
   "id": "396f4429",
   "metadata": {},
   "outputs": [
    {
     "data": {
      "text/plain": [
       "LogisticRegression()"
      ]
     },
     "execution_count": 110,
     "metadata": {},
     "output_type": "execute_result"
    }
   ],
   "source": [
    "clf.fit(X_resample_3,y_resample)"
   ]
  },
  {
   "cell_type": "code",
   "execution_count": 111,
   "id": "72c72522",
   "metadata": {},
   "outputs": [],
   "source": [
    "y_resample_pred = clf.predict(X_resample_3)"
   ]
  },
  {
   "cell_type": "code",
   "execution_count": 112,
   "id": "4824ebff",
   "metadata": {},
   "outputs": [
    {
     "name": "stdout",
     "output_type": "stream",
     "text": [
      "[[1770  508]\n",
      " [ 524 1754]]\n"
     ]
    }
   ],
   "source": [
    "print(confusion_matrix(y_resample,y_resample_pred))"
   ]
  },
  {
   "cell_type": "code",
   "execution_count": 114,
   "id": "8f8604bb",
   "metadata": {},
   "outputs": [
    {
     "name": "stdout",
     "output_type": "stream",
     "text": [
      "          Negative  Positive\n",
      "Negative      1770       508\n",
      "Positive       524      1754\n"
     ]
    }
   ],
   "source": [
    "cm = confusion_matrix(y_resample,y_resample_pred)\n",
    "\n",
    "labels = [\"Negative\", \"Positive\"]\n",
    "cm_df = pd.DataFrame(cm, index=labels, columns=labels)\n",
    "\n",
    "print(cm_df)"
   ]
  },
  {
   "cell_type": "code",
   "execution_count": 113,
   "id": "9f90e552",
   "metadata": {},
   "outputs": [
    {
     "name": "stdout",
     "output_type": "stream",
     "text": [
      "              precision    recall  f1-score   support\n",
      "\n",
      "           0       0.77      0.78      0.77      2278\n",
      "           1       0.78      0.77      0.77      2278\n",
      "\n",
      "    accuracy                           0.77      4556\n",
      "   macro avg       0.77      0.77      0.77      4556\n",
      "weighted avg       0.77      0.77      0.77      4556\n",
      "\n"
     ]
    }
   ],
   "source": [
    "print(classification_report(y_resample,y_resample_pred))"
   ]
  },
  {
   "cell_type": "markdown",
   "id": "72a5b439",
   "metadata": {},
   "source": [
    "# Prepairing test_data for  model validation"
   ]
  },
  {
   "cell_type": "code",
   "execution_count": 83,
   "id": "17563f58",
   "metadata": {},
   "outputs": [
    {
     "data": {
      "text/html": [
       "<div>\n",
       "<style scoped>\n",
       "    .dataframe tbody tr th:only-of-type {\n",
       "        vertical-align: middle;\n",
       "    }\n",
       "\n",
       "    .dataframe tbody tr th {\n",
       "        vertical-align: top;\n",
       "    }\n",
       "\n",
       "    .dataframe thead th {\n",
       "        text-align: right;\n",
       "    }\n",
       "</style>\n",
       "<table border=\"1\" class=\"dataframe\">\n",
       "  <thead>\n",
       "    <tr style=\"text-align: right;\">\n",
       "      <th></th>\n",
       "      <th>ContractRenewal</th>\n",
       "      <th>DataUsage</th>\n",
       "      <th>CustServCalls</th>\n",
       "      <th>DayMins</th>\n",
       "      <th>OverageFee</th>\n",
       "      <th>RoamMins</th>\n",
       "    </tr>\n",
       "  </thead>\n",
       "  <tbody>\n",
       "    <tr>\n",
       "      <th>0</th>\n",
       "      <td>1.0</td>\n",
       "      <td>0.000000</td>\n",
       "      <td>0.285714</td>\n",
       "      <td>0.436134</td>\n",
       "      <td>0.439704</td>\n",
       "      <td>0.945355</td>\n",
       "    </tr>\n",
       "    <tr>\n",
       "      <th>1</th>\n",
       "      <td>1.0</td>\n",
       "      <td>0.484305</td>\n",
       "      <td>0.000000</td>\n",
       "      <td>0.630040</td>\n",
       "      <td>0.624005</td>\n",
       "      <td>0.437158</td>\n",
       "    </tr>\n",
       "    <tr>\n",
       "      <th>2</th>\n",
       "      <td>0.0</td>\n",
       "      <td>0.000000</td>\n",
       "      <td>0.285714</td>\n",
       "      <td>0.295783</td>\n",
       "      <td>0.626280</td>\n",
       "      <td>0.590164</td>\n",
       "    </tr>\n",
       "    <tr>\n",
       "      <th>3</th>\n",
       "      <td>1.0</td>\n",
       "      <td>0.076233</td>\n",
       "      <td>0.000000</td>\n",
       "      <td>0.469067</td>\n",
       "      <td>0.537543</td>\n",
       "      <td>0.797814</td>\n",
       "    </tr>\n",
       "    <tr>\n",
       "      <th>4</th>\n",
       "      <td>1.0</td>\n",
       "      <td>0.000000</td>\n",
       "      <td>0.142857</td>\n",
       "      <td>0.113881</td>\n",
       "      <td>0.656997</td>\n",
       "      <td>0.464481</td>\n",
       "    </tr>\n",
       "  </tbody>\n",
       "</table>\n",
       "</div>"
      ],
      "text/plain": [
       "   ContractRenewal  DataUsage  CustServCalls   DayMins  OverageFee  RoamMins\n",
       "0              1.0   0.000000       0.285714  0.436134    0.439704  0.945355\n",
       "1              1.0   0.484305       0.000000  0.630040    0.624005  0.437158\n",
       "2              0.0   0.000000       0.285714  0.295783    0.626280  0.590164\n",
       "3              1.0   0.076233       0.000000  0.469067    0.537543  0.797814\n",
       "4              1.0   0.000000       0.142857  0.113881    0.656997  0.464481"
      ]
     },
     "execution_count": 83,
     "metadata": {},
     "output_type": "execute_result"
    }
   ],
   "source": [
    "X_test = pd.DataFrame(MM.fit_transform(X_test),columns = X_test.columns)\n",
    "X_test = X_test.drop(['AccountWeeks','DayCalls','MonthlyCharge','DataPlan'],axis=1)\n",
    "X_test.head()"
   ]
  },
  {
   "cell_type": "code",
   "execution_count": 84,
   "id": "e290bcd3",
   "metadata": {},
   "outputs": [
    {
     "data": {
      "text/plain": [
       "LogisticRegression()"
      ]
     },
     "execution_count": 84,
     "metadata": {},
     "output_type": "execute_result"
    }
   ],
   "source": [
    "clf.fit(X_test,y_test)"
   ]
  },
  {
   "cell_type": "code",
   "execution_count": 85,
   "id": "dc1f4c7b",
   "metadata": {},
   "outputs": [],
   "source": [
    "y_test_Pred = clf.predict(X_test)"
   ]
  },
  {
   "cell_type": "code",
   "execution_count": 86,
   "id": "e1708fc7",
   "metadata": {},
   "outputs": [
    {
     "name": "stdout",
     "output_type": "stream",
     "text": [
      "[[570   2]\n",
      " [ 90   5]]\n"
     ]
    }
   ],
   "source": [
    "print(confusion_matrix(y_test,y_test_Pred))"
   ]
  },
  {
   "cell_type": "code",
   "execution_count": 115,
   "id": "18908049",
   "metadata": {},
   "outputs": [
    {
     "name": "stdout",
     "output_type": "stream",
     "text": [
      "          Negative  Positive\n",
      "Negative       570         2\n",
      "Positive        90         5\n"
     ]
    }
   ],
   "source": [
    "cm = confusion_matrix(y_test,y_test_Pred)\n",
    "\n",
    "labels = [\"Negative\", \"Positive\"]\n",
    "cm_df = pd.DataFrame(cm, index=labels, columns=labels)\n",
    "\n",
    "print(cm_df)"
   ]
  },
  {
   "cell_type": "code",
   "execution_count": 87,
   "id": "f1f507e8",
   "metadata": {},
   "outputs": [
    {
     "data": {
      "text/plain": [
       "0.8620689655172413"
      ]
     },
     "execution_count": 87,
     "metadata": {},
     "output_type": "execute_result"
    }
   ],
   "source": [
    "accuracy_score(y_test,y_test_Pred)"
   ]
  },
  {
   "cell_type": "code",
   "execution_count": 88,
   "id": "37c8e017",
   "metadata": {},
   "outputs": [
    {
     "name": "stdout",
     "output_type": "stream",
     "text": [
      "              precision    recall  f1-score   support\n",
      "\n",
      "           0       0.86      1.00      0.93       572\n",
      "           1       0.71      0.05      0.10        95\n",
      "\n",
      "    accuracy                           0.86       667\n",
      "   macro avg       0.79      0.52      0.51       667\n",
      "weighted avg       0.84      0.86      0.81       667\n",
      "\n"
     ]
    }
   ],
   "source": [
    "print(classification_report(y_test,y_test_Pred))"
   ]
  },
  {
   "cell_type": "markdown",
   "id": "591e3f12",
   "metadata": {},
   "source": [
    "'''The LogisticRegression algorithm works on probability threshold (by default it is 0.5)\n",
    "\n",
    "and so far all the metrics that we have analysed works on threshold.\n",
    "\n",
    "To judge the performance of our model in better way, we should go for ROC_AUC score.'''"
   ]
  },
  {
   "cell_type": "markdown",
   "id": "3edd5cd5",
   "metadata": {},
   "source": [
    "## ROC_AUC score"
   ]
  },
  {
   "cell_type": "code",
   "execution_count": 89,
   "id": "2c225eae",
   "metadata": {},
   "outputs": [
    {
     "data": {
      "text/plain": [
       "0.8141884431358115"
      ]
     },
     "execution_count": 89,
     "metadata": {},
     "output_type": "execute_result"
    }
   ],
   "source": [
    "from sklearn.metrics import roc_curve,roc_auc_score\n",
    "\n",
    "probability = clf.predict_proba(X_test)[:,1]\n",
    "\n",
    "fpr,tpr,thresholds = roc_curve(y_test,probability,drop_intermediate=False)\n",
    "auc = roc_auc_score(y_test,probability)\n",
    "auc"
   ]
  },
  {
   "cell_type": "markdown",
   "id": "aec2218e",
   "metadata": {},
   "source": [
    "## Plotting the AUC"
   ]
  },
  {
   "cell_type": "code",
   "execution_count": 116,
   "id": "156dd2fa",
   "metadata": {},
   "outputs": [
    {
     "data": {
      "image/png": "[encoded data removed]",
      "text/plain": [
       "<Figure size 640x480 with 1 Axes>"
      ]
     },
     "metadata": {},
     "output_type": "display_data"
    }
   ],
   "source": [
    "plt.figure()\n",
    "plt.plot(fpr,tpr,'r',label='AUC = %0.2f' %auc)\n",
    "plt.plot([0,1],[0,1],'b',linestyle='--',lw=2)\n",
    "plt.xlabel('fpr')\n",
    "plt.ylabel('tpr')\n",
    "plt.title('ROC')\n",
    "plt.legend(loc ='best');\n",
    "plt.savefig(\"ROC.png\", format=\"png\", bbox_inches=\"tight\")"
   ]
  },
  {
   "cell_type": "markdown",
   "id": "a6e516b9",
   "metadata": {},
   "source": [
    "## optimizing the model using precision and recall scrore"
   ]
  },
  {
   "cell_type": "code",
   "execution_count": 91,
   "id": "221bc9b6",
   "metadata": {},
   "outputs": [],
   "source": [
    "from sklearn.metrics import precision_score,recall_score\n",
    "from sklearn.metrics import precision_recall_curve"
   ]
  },
  {
   "cell_type": "code",
   "execution_count": 117,
   "id": "47f6fa95",
   "metadata": {},
   "outputs": [
    {
     "data": {
      "image/png": "[encoded data removed]",
      "text/plain": [
       "<Figure size 1000x500 with 1 Axes>"
      ]
     },
     "metadata": {},
     "output_type": "display_data"
    }
   ],
   "source": [
    "precision,recall,thresholds = precision_recall_curve(y_test,probability)\n",
    "\n",
    "plt.figure(figsize=(10,5))\n",
    "plt.plot(thresholds,precision[:-1],'b--',label='Precision')\n",
    "plt.plot(thresholds,recall[:-1],'r--',label='Recall')\n",
    "plt.xlabel('Threshold')\n",
    "plt.legend(loc='best');\n",
    "plt.savefig(\"precision_recall_curve.png\", format=\"png\", bbox_inches=\"tight\")"
   ]
  },
  {
   "cell_type": "markdown",
   "id": "6ff579b3",
   "metadata": {},
   "source": [
    "### In this case we need optimum threshold for our requirement,then we can set the threshold of 0.25"
   ]
  },
  {
   "cell_type": "code",
   "execution_count": 129,
   "id": "4e183789",
   "metadata": {},
   "outputs": [],
   "source": [
    "threshold = 0.25\n",
    "new_prob = np.where(probability >= threshold,1,0)"
   ]
  },
  {
   "cell_type": "code",
   "execution_count": 130,
   "id": "ed7f6682",
   "metadata": {},
   "outputs": [
    {
     "name": "stdout",
     "output_type": "stream",
     "text": [
      "[[516  56]\n",
      " [ 51  44]]\n"
     ]
    }
   ],
   "source": [
    "print(confusion_matrix(y_test,new_prob))"
   ]
  },
  {
   "cell_type": "code",
   "execution_count": 131,
   "id": "fa6c25c6",
   "metadata": {},
   "outputs": [
    {
     "name": "stdout",
     "output_type": "stream",
     "text": [
      "          Negative  Positive\n",
      "Negative       516        56\n",
      "Positive        51        44\n"
     ]
    }
   ],
   "source": [
    "cm = confusion_matrix(y_test,new_prob)\n",
    "\n",
    "labels = [\"Negative\", \"Positive\"]\n",
    "cm_df = pd.DataFrame(cm, index=labels, columns=labels)\n",
    "\n",
    "print(cm_df)"
   ]
  },
  {
   "cell_type": "code",
   "execution_count": 133,
   "id": "1fcd78ff",
   "metadata": {},
   "outputs": [
    {
     "name": "stdout",
     "output_type": "stream",
     "text": [
      "              precision    recall  f1-score   support\n",
      "\n",
      "           0       0.91      0.90      0.91       572\n",
      "           1       0.44      0.46      0.45        95\n",
      "\n",
      "    accuracy                           0.84       667\n",
      "   macro avg       0.68      0.68      0.68       667\n",
      "weighted avg       0.84      0.84      0.84       667\n",
      "\n"
     ]
    }
   ],
   "source": [
    "print(classification_report(y_test,new_prob))"
   ]
  },
  {
   "cell_type": "markdown",
   "id": "19b6d2d9",
   "metadata": {},
   "source": [
    "## Checking with arbitrary Data point"
   ]
  },
  {
   "cell_type": "code",
   "execution_count": 132,
   "id": "50a71a66",
   "metadata": {},
   "outputs": [
    {
     "data": {
      "text/plain": [
       "array([0], dtype=int64)"
      ]
     },
     "execution_count": 132,
     "metadata": {},
     "output_type": "execute_result"
    }
   ],
   "source": [
    "y_prd = clf.predict([[1,0.4843, 0.00, 0.630,0.624,0.438]])\n",
    "y_prd"
   ]
  },
  {
   "cell_type": "code",
   "execution_count": null,
   "id": "30ea4325",
   "metadata": {},
   "outputs": [],
   "source": []
  }
 ],
 "metadata": {
  "kernelspec": {
   "display_name": "Python 3 (ipykernel)",
   "language": "python",
   "name": "python3"
  },
  "language_info": {
   "codemirror_mode": {
    "name": "ipython",
    "version": 3
   },
   "file_extension": ".py",
   "mimetype": "text/x-python",
   "name": "python",
   "nbconvert_exporter": "python",
   "pygments_lexer": "ipython3",
   "version": "3.9.13"
  }
 },
 "nbformat": 4,
 "nbformat_minor": 5
}
